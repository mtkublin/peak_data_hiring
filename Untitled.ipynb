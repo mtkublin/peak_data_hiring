{
 "cells": [
  {
   "cell_type": "code",
   "execution_count": 7,
   "metadata": {},
   "outputs": [],
   "source": [
    "import os\n",
    "import re\n",
    "import pandas as pd\n",
    "import html2text\n",
    "from bs4 import BeautifulSoup\n",
    "from tqdm import tqdm"
   ]
  },
  {
   "cell_type": "code",
   "execution_count": 8,
   "metadata": {},
   "outputs": [],
   "source": [
    "def strip_text(soup):\n",
    "    text = \"\".join(p.get_text() for p in soup.find_all(\"p\"))\n",
    "    return re.sub(\"\\s+\", \" \", text)\n",
    "    \n",
    "def get_html_text(filepath):\n",
    "    with open(filepath, encoding=\"ISO-8859-1\") as f:\n",
    "        soup = BeautifulSoup(f.read(), \"html\")\n",
    "    return strip_text(soup)\n",
    "    \n",
    "def get_all_texts():\n",
    "    return {\n",
    "        int(file.replace(\".html\", \"\")): get_html_text(os.path.join(\"htmls\", file))   \n",
    "        for file in tqdm(os.listdir(\"htmls\"))\n",
    "    }"
   ]
  },
  {
   "cell_type": "code",
   "execution_count": 9,
   "metadata": {},
   "outputs": [
    {
     "name": "stderr",
     "output_type": "stream",
     "text": [
      "100%|████████████████████████████████████████████████████████████████████████████████| 148/148 [00:04<00:00, 31.68it/s]\n"
     ]
    }
   ],
   "source": [
    "texts = get_all_texts()"
   ]
  },
  {
   "cell_type": "code",
   "execution_count": 10,
   "metadata": {},
   "outputs": [
    {
     "data": {
      "text/plain": [
       "\" SekretariatT. 03531 503-117F. 03531 503-210Diese E-Mail-Adresse ist vor Spambots geschÃ¼tzt! Zur Anzeige muss JavaScript eingeschaltet sein! document.getElementById('cloakec1950ef4a60bc93d1e59aa8406d5d89').innerHTML = ''; var prefix = 'ma' + 'il' + 'to'; var path = 'hr' + 'ef' + '='; var addyec1950ef4a60bc93d1e59aa8406d5d89 = 'chirurgie.fi' + '@'; addyec1950ef4a60bc93d1e59aa8406d5d89 = addyec1950ef4a60bc93d1e59aa8406d5d89 + 'elbe-elster-klinikum' + '.' + 'de'; document.getElementById('cloakec1950ef4a60bc93d1e59aa8406d5d89').innerHTML += addyec1950ef4a60bc93d1e59aa8406d5d89; FC1, Haus 9, Ebene 2FC1a, Haus 12, Ebene 245 BettenKernbesuchszeit 14.00â\\x80\\x9319.00 Uhr,auÃ\\x9ferhalb nach AbspracheChirurgie ElsterwerdaChirurgie FinsterwaldeChirurgie HerzbergNotfallambulanzRund um die Uhr, T. 03531 503-148FÃ¼r alle folgenden Angebote benÃ¶tigen Sie einen Termin.Diesen erhalten Sie tÃ¤glich von 9.30 - 17.30 Uhr unter 03531 503-142 oder -308Die Abteilung fÃ¼hrt alle Eingriffe auf dem Gebiet der Allgemeinchirurgie, Visceralchirurgie sowie Unfallchirurgie/ OrthopÃ¤die durch, soweit dies zum Aufgabenbereich eines Hauses der Grundversorgung gehÃ¶rt. Sie arbeitet in zwei Stationen, wobei eine fÃ¼r Kurzlieger und ambulant operativ behandelte Patienten genutzt wird. FÃ¼r schwere FÃ¤lle stehen sechs Betten auf der interdisziplinÃ¤r genutzten Intensivstation zur VerfÃ¼gung. Im Rahmen der Allgemein- und Visceralchirurgie werden, wenn mÃ¶glich, laparoskopische Operationsverfahren eingesetzt. Gleiches gilt in der Unfallchirurgie/OrthopÃ¤die fÃ¼r arthroskopische Operationen.Unfallchirurgisch/OrthopÃ¤disch werden alle Verfahren der Knochbruchbehandlung, sei es durch NÃ¤gel, Schrauben oder Platten, angewandt. Der gelenkprothetische Ersatz groÃ\\x9fer und auch kleiner Gelenke wird betrieben.Die SchilddrÃ¼senchirurgie ist in umfangreichen Rahmen etabliert. Gleiches gilt fÃ¼r die Behandlung von Krampfaderleiden.Im Bereich der Chirurgie werden gynÃ¤kologogische Patientinnen mit betreut, die im Rahmen eines Konsiliarvertrages durch niedergelassene GynÃ¤kologen behandelt werden. Patienten mit Erkrankungen der weiblichen Brust werden von der Abteilung im Rahmen des Lausitzer Brustzentrums ebenfalls versorgt. Das Leistungsspektrum ist sehr umfangreich: Neben der Diagnostik und Therapie von Brustkrebserkrankungen gehÃ¶ren auch die AbklÃ¤rung unklarer, teilweise gutartiger Befunde sowie plastische Operationen dazu.Mit der Zertifizierung durch die Deutsche Herniengesellschaft (DHG) werden alle Hernienoperationen im Krankenhaus Finsterwalde einer QualitÃ¤tskontrolle unterzogen.Die Elbe-Elster Klinikum GmbH ist Mitglied im Lausitzer Brustzentrum. Dieser Zusammenschluss aus dem Lausitzer Seenland Klinikum Hoyerswerda, dem Malteserkrankenhaus St. Johannes Kamenz, der Kreiskrankenhaus WeiÃ\\x9fwasser gGmbH sowie dem Elbe-Elster Klinikum hat das Ziel, den an den Krankenhausstandorten der Partner behandelten Brustkrebs-Patientinnen eine hochwertige und qualitÃ¤tsgesicherte Therapie nach einem einheitlichen evidenzbasierten Behandlungsmuster zur VerfÃ¼gung zu stellen.Patienten mit Erkrankungen der weiblichen Brust werden im Elbe-Elster Klinikum im Krankenhaus Finsterwalde betreut. Dieses Versorgungsangebot ist in Form eines senologischen Arbeitskreises organisiert und in der Fachabteilung fÃ¼r Chirurgie im Krankenhaus Finsterwalde angesiedelt.Â Das Leistungsspektrum ist sehr umfangreich: Neben der Diagnostik und Therapie von Brustkrebserkrankungen gehÃ¶ren auch die AbklÃ¤rung unklarer, teilweise gutartiger Befunde sowie plastische Operationen dazu.Der Arbeitskreis handelt entsprechend der medizinischen S3-Leitlinien der Deutschen Krebsgesellschaft und der Arbeitsgemeinschaft der gynÃ¤kologischen Onkologie. Seine Arbeitsweise ist den Tumorboards zertifizierter Brustzentren gleichzusetzen. Er versammelt GynÃ¤kologen, Chirurgen, Onkologen, Pathologen, Radiologen, Nuklearmediziner, Strahlentherapeuten, Psychologen und spezialisierte PflegekrÃ¤fte sowohl aus dem stationÃ¤ren als auch aus ambulanten Bereichen, die die Therapieoptionen der behandelten Patientinnen gemeinsam festlegen. Das gemeinsam erarbeitete Protokoll enthÃ¤lt eine Therapieempfehlung und wird den behandelnden Medizinern im Anschluss zugesandt.Ziel aller BemÃ¼hungen ist es immer, den Patientinnen mit Brusterkrankungen eine Diagnose und die Behandlung auf dem aktuellen Stand der Medizin anzubieten. Ebenso wichtig ist die menschliche Seite der Betreuung: Neben den fachlichen Kenntnissen sind EinfÃ¼hlsamkeit und ganzheitliche Betrachtung entscheidende Grundpfeiler der Arbeit des senologischen Teams um das Krankenhaus Finsterwalde.Leistungsangebote fÃ¼r Brustkrebs-PatientenDiagnostikTherapiewÃ¤hrend des und nach dem KrankenhausaufenthaltVorteile fÃ¼r unsere PatientinnenKONTAKTElbe-Elster Klinikum GmbHKirchhainer StraÃ\\x9fe 38a03238 FinsterwaldeT. +49 3531 503-0F. +49 3531 503-105info@elbe-elster-klinikum.dewww.elbe-elster-klinikum.de\""
      ]
     },
     "execution_count": 10,
     "metadata": {},
     "output_type": "execute_result"
    }
   ],
   "source": [
    "texts[1]"
   ]
  },
  {
   "cell_type": "code",
   "execution_count": null,
   "metadata": {},
   "outputs": [],
   "source": [
    "keyword2tumor_type = pd.read_csv(\"keyword2tumor_type.csv\")\n",
    "test = pd.read_csv(\"test.csv\")\n",
    "train = pd.read_csv(\"train.csv\")"
   ]
  },
  {
   "cell_type": "code",
   "execution_count": null,
   "metadata": {},
   "outputs": [],
   "source": [
    "texts[1]"
   ]
  },
  {
   "cell_type": "code",
   "execution_count": null,
   "metadata": {},
   "outputs": [],
   "source": [
    "re.sub(\"\\s+\", \" \", texts[\"1\"])"
   ]
  },
  {
   "cell_type": "code",
   "execution_count": null,
   "metadata": {},
   "outputs": [],
   "source": []
  }
 ],
 "metadata": {
  "kernelspec": {
   "display_name": "Python 3",
   "language": "python",
   "name": "python3"
  },
  "language_info": {
   "codemirror_mode": {
    "name": "ipython",
    "version": 3
   },
   "file_extension": ".py",
   "mimetype": "text/x-python",
   "name": "python",
   "nbconvert_exporter": "python",
   "pygments_lexer": "ipython3",
   "version": "3.7.3"
  }
 },
 "nbformat": 4,
 "nbformat_minor": 2
}
