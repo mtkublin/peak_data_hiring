{
 "cells": [
  {
   "cell_type": "markdown",
   "metadata": {},
   "source": [
    "### First let's set up the project\n",
    "\n",
    "We'll be using pandas and numpy for data handling, beautifulsoup for html data extraction, spacy for text cleaning and word embeddings and sklearn for model training and evaluation"
   ]
  },
  {
   "cell_type": "code",
   "execution_count": 1,
   "metadata": {},
   "outputs": [],
   "source": [
    "# !pip install -r requirements.txt"
   ]
  },
  {
   "cell_type": "code",
   "execution_count": 2,
   "metadata": {},
   "outputs": [],
   "source": [
    "# !python -m spacy download de_core_news_sm"
   ]
  },
  {
   "cell_type": "code",
   "execution_count": 3,
   "metadata": {},
   "outputs": [],
   "source": [
    "from warnings import filterwarnings\n",
    "\n",
    "filterwarnings(\"ignore\")"
   ]
  },
  {
   "cell_type": "code",
   "execution_count": 32,
   "metadata": {},
   "outputs": [],
   "source": [
    "import os\n",
    "import re\n",
    "from pprint import pprint\n",
    "\n",
    "from bs4 import BeautifulSoup\n",
    "\n",
    "import pandas as pd\n",
    "import numpy as np\n",
    "\n",
    "import spacy\n",
    "\n",
    "from sklearn.model_selection import train_test_split\n",
    "from sklearn.metrics import classification_report, accuracy_score, plot_confusion_matrix\n",
    "from sklearn.linear_model import LogisticRegression, SGDClassifier\n",
    "from sklearn.svm import LinearSVC\n",
    "from sklearn.base import BaseEstimator\n",
    "from sklearn.feature_extraction.text import TfidfVectorizer\n",
    "\n",
    "import matplotlib.pyplot as plt"
   ]
  },
  {
   "cell_type": "markdown",
   "metadata": {},
   "source": [
    "### Next we'll extract texts from provided HTML files \n",
    "\n",
    "We'll decompose `style` and `script` tags as they are not our actual textual data and then extract all other texts from files for further processing."
   ]
  },
  {
   "cell_type": "code",
   "execution_count": 5,
   "metadata": {},
   "outputs": [
    {
     "data": {
      "text/plain": [
       "'\\n \\n \\n \\n \\n \\n \\n BauchspeicheldrÃ¼se | Klinik fÃ¼r Allgemein-, Viszeral- und Kinderchirurgie GÃ¶ttingen \\n \\n \\n \\n \\n \\n \\n \\n \\n \\n \\n \\n \\n \\n \\n Klinik fÃ¼r Allgemein-, Viszeral- und Kinderchirurgie \\n zur Hauptnavigation springen \\n zum Inhalt wechseln \\n \\n Aktuelles und Kontakt Kontakt \\n \\n \\n Logo der UniverstÃ¤tsmedizin GÃ¶ttingen \\n \\n \\n \\n \\n \\n \\n \\n \\n \\n Navigation Ã¶ffnen oder schliessen \\n \\n \\n \\n \\n \\n \\n Hauptnavigation Subnavigation Ã¶ffnen oder schliessen Medizinische Versorgung Poliklinik Sonographie SchilddrÃ¼se SpeiserÃ¶hre und Magen Darm BauchspeicheldrÃ¼se CED Leber und Galle Hernien Koloproktologie Adipositaschirurgie Kinderchirurgie Sarkomchirurgie HIPEC Roboterchirurgie InterdisziplinÃ¤re Zentren Subnavigation Ã¶ffnen oder schliessen Forschung Klinische Studien Tumorepigenetik AG Conradi AG Gaedcke AG Grade AG Krause AG Sperling AG Sprenger AG Wegwitz Promotion Publikationen Subnavigation Ã¶ffnen oder schliessen Lehre Module Blockpraktikum Famulaturen/PJ Subnavigation Ã¶ffnen oder schliessen Ã\\x9cber uns Mitarbeiter Stationen StationÃ¤re Aufnahme Geschichte der Klinik \\n \\n \\n \\n \\n \\n \\n \\n \\n \\n \\n \\n Navigationspfad Medizinische Versorgung BauchspeicheldrÃ¼se \\n \\n \\n \\n \\n \\n \\n \\n \\n \\n Pankreaschirurgie Die operative Therapie der BauchspeicheldrÃ¼se beziehungsweise ihrer VerÃ¤nderungen ist ein besonderer Schwerpunkt unserer Klinik. HierfÃ¼r wurden wir von der  Deutschen Gesellschaft fÃ¼r Allgemein- und Viszeralchirurgie (DGAV)  als Kompetenzzentrum zertifiziert. Das bedeutet, dass sÃ¤mtliche Diagnosen und VerlÃ¤ufe unserer Patienten erfasst und regelmÃ¤Ã\\x9fig kritisch evaluiert werden. Wir arbeiten in einem interdisziplinÃ¤ren Team bestehend aus Gastroenterologen, Radiologen, Pathologen, AnÃ¤sthesisten oder auch Radioonkologen zusammen. Die Therapie vor beziehungsweise nach Entfernung des Tumors legen wir im Rahmen des interdisziplinÃ¤ren Tumorboards des  GÃ¶ttinger CCCs  fest. Lesen Sie hier, welche Erkrankungen es gibt und wie wir sie versorgen: Abbildung der regulÃ¤ren Anatomie der BauchspeicheldrÃ¼se. Der Kopf wird von ZwÃ¶lffingerdarm eingebettet. Zu unserem Spektrum gehÃ¶ren vor allem Neubildungen der BauchspeicheldrÃ¼se oder des Gallengangs, der durch das Organ lÃ¤uft und sich hÃ¤ufig die MÃ¼ndung in den ZwÃ¶lffingerdarm mit dem AusfÃ¼hrungsgang der BauchspeicheldrÃ¼se teilt. Anatomisch unterteilt man die BauchspeicheldrÃ¼se in Kopf, KÃ¶rper und Schwanz. Die meisten VerÃ¤nderungen sind bÃ¶sartige Tumoren des BauchspeicheldrÃ¼senkopfes â\\x80\\x93 sie treten entweder als Zufallsbefund auf, im Rahmen einer Gelbsucht (Ikterus) oder durch AbklÃ¤rung von RÃ¼ckenschmerzen beziehungsweise diffusen Beschwerden im Bereich des Bauches. Sofern die Tumoren auf das Organ beschrÃ¤nkt sind â\\x80\\x93 also keine Lungen- oder Lebermetastasen vorliegen beziehungsweise das Bauchfell nicht befallen ist â\\x80\\x93 kÃ¶nnen wir den BauchspeicheldrÃ¼senkopf operativ entfernen. Dabei entfernen wir den ZwÃ¶lffingerdarm, den unteren Anteil des Gallengangs und die lokalen Lymphknoten mit. Ist der Tumor bereits in die angrenzende groÃ\\x9fe Vene, die Pfortader eingebrochen, die das Blut aus dem Darm zur Leber transportiert, kÃ¶nnen wir diese in der Regel auch teilweise mitentfernen. Auch wenn die Arterie beteiligt ist, kann in je nach Fall eine Operation sinnvoll sein. Es gibt FÃ¤lle, in denen es nicht mÃ¶glich ist, den Tumor operativ zu entfernen. Dann kÃ¶nnen wir, nachdem wir Fernmetastasen ausgeschlossen haben, im Rahmen klinischer Studien (CONKO-007) zunÃ¤chst eine Chemotherapie und/oder eine Bestrahlung durchfÃ¼hren. Auch auf diese Weise ist es mÃ¶glich, den Tumor zu entfernen. In diesen schwierigen Situationen ist unser Team besonders erfahren. Ihre Ansprechpartner Univ.-Prof. Dr. Michael Ghadimi Direktor Email:  Diese E-Mail-Adresse ist vor Spambots geschÃ¼tzt! Zur Anzeige muss JavaScript eingeschaltet sein! Univ.-Prof. Dr. Jochen Gaedcke Leitender Oberarzt Email:  Diese E-Mail-Adresse ist vor Spambots geschÃ¼tzt! Zur Anzeige muss JavaScript eingeschaltet sein! Pankreassprechstunde: Nach Vereinbarung HauptgebÃ¤ude UBFT, Ebene 3,Fahrstuhl B2 (Leitstelle B2) Terminvereinbarung unter 0551/39-66148   Drucken \\n \\n \\n \\n \\n \\n \\n Informationen zu unseren Internetangeboten \\n \\n \\n \\n Sitemap Klinik fÃ¼r Allgemein-, Viszeral- und Kinderchirurgie Medizinische Versorgung Poliklinik Sonographie SchilddrÃ¼se SpeiserÃ¶hre und Magen Darm BauchspeicheldrÃ¼se CED Leber und Galle Hernien Koloproktologie Adipositaschirurgie Kinderchirurgie Sarkomchirurgie HIPEC Roboterchirurgie InterdisziplinÃ¤re Zentren Forschung Klinische Studien Tumorepigenetik AG Conradi AG Gaedcke AG Grade AG Krause AG Sperling AG Sprenger AG Wegwitz Promotion Publikationen Lehre Module Blockpraktikum Famulaturen/PJ Ã\\x9cber uns Mitarbeiter Stationen StationÃ¤re Aufnahme Geschichte der Klinik \\n \\n \\n \\n \\n \\n \\n \\n Informationen zu dieser Website Sitemap Datenschutz Impressum \\n \\n \\n \\n \\n \\n \\n Copyright \\n © 2019 Klinik fÃ¼r Allgemein-, Viszeral- und Kinderchirurgie \\n \\n \\n \\n \\n \\n \\n \\n \\n \\n \\n \\n \\n \\n \\n \\n'"
      ]
     },
     "execution_count": 5,
     "metadata": {},
     "output_type": "execute_result"
    }
   ],
   "source": [
    "def extract_html_text(filepath: str) -> str:\n",
    "    \"\"\"\n",
    "    Extracts test data from HTML file on provided path.\n",
    "    \"\"\"\n",
    "    # Open the file and load it to BeautifulSoup\n",
    "    with open(filepath, encoding='ISO-8859-1') as f:\n",
    "        soup = BeautifulSoup(f.read(), \"html\")\n",
    "    \n",
    "    # Decompose script and style tags\n",
    "    tags_to_decompose = [\n",
    "        tag \n",
    "        for tag_name in (\"style\", \"script\")\n",
    "        for tag in soup.find_all(tag_name)\n",
    "    ]\n",
    "    for tag in tags_to_decompose:\n",
    "        tag.decompose()\n",
    "    \n",
    "    # Return only texts from the file\n",
    "    return soup.get_text(\" \")\n",
    "\n",
    "# Test the function on a single file\n",
    "extract_html_text(os.path.join(\"htmls\", \"0.html\"))"
   ]
  },
  {
   "cell_type": "markdown",
   "metadata": {},
   "source": [
    "Let's define a function that will extract data from all files and return it as a dictionary with document ids as keys and texts as values."
   ]
  },
  {
   "cell_type": "code",
   "execution_count": 6,
   "metadata": {},
   "outputs": [],
   "source": [
    "def extract_all_texts(directory) -> dict[int, str]:\n",
    "    \"\"\"\n",
    "    Extracts texts from all HTML files in provided directory\n",
    "    \"\"\"\n",
    "    return {\n",
    "        int(file.replace(\".html\", \"\")): extract_html_text(os.path.join(directory, file))\n",
    "        for file in os.listdir(\"htmls\")\n",
    "    }\n",
    "\n",
    "all_texts = extract_all_texts(\"htmls\")"
   ]
  },
  {
   "cell_type": "markdown",
   "metadata": {},
   "source": [
    "### Now let's load our training data\n",
    "\n",
    "We'll load the data to pandas DataFrame to make further processing easier"
   ]
  },
  {
   "cell_type": "code",
   "execution_count": 7,
   "metadata": {},
   "outputs": [
    {
     "data": {
      "text/html": [
       "<div>\n",
       "<style scoped>\n",
       "    .dataframe tbody tr th:only-of-type {\n",
       "        vertical-align: middle;\n",
       "    }\n",
       "\n",
       "    .dataframe tbody tr th {\n",
       "        vertical-align: top;\n",
       "    }\n",
       "\n",
       "    .dataframe thead th {\n",
       "        text-align: right;\n",
       "    }\n",
       "</style>\n",
       "<table border=\"1\" class=\"dataframe\">\n",
       "  <thead>\n",
       "    <tr style=\"text-align: right;\">\n",
       "      <th></th>\n",
       "      <th>url</th>\n",
       "      <th>doc_id</th>\n",
       "      <th>label</th>\n",
       "    </tr>\n",
       "  </thead>\n",
       "  <tbody>\n",
       "    <tr>\n",
       "      <th>0</th>\n",
       "      <td>http://elbe-elster-klinikum.de/fachbereiche/ch...</td>\n",
       "      <td>1</td>\n",
       "      <td>1</td>\n",
       "    </tr>\n",
       "    <tr>\n",
       "      <th>1</th>\n",
       "      <td>http://klinikum-bayreuth.de/einrichtungen/zent...</td>\n",
       "      <td>3</td>\n",
       "      <td>3</td>\n",
       "    </tr>\n",
       "    <tr>\n",
       "      <th>2</th>\n",
       "      <td>http://klinikum-braunschweig.de/info.php/?id_o...</td>\n",
       "      <td>4</td>\n",
       "      <td>1</td>\n",
       "    </tr>\n",
       "    <tr>\n",
       "      <th>3</th>\n",
       "      <td>http://klinikum-braunschweig.de/info.php/?id_o...</td>\n",
       "      <td>5</td>\n",
       "      <td>1</td>\n",
       "    </tr>\n",
       "    <tr>\n",
       "      <th>4</th>\n",
       "      <td>http://klinikum-braunschweig.de/zuweiser/tumor...</td>\n",
       "      <td>6</td>\n",
       "      <td>3</td>\n",
       "    </tr>\n",
       "    <tr>\n",
       "      <th>...</th>\n",
       "      <td>...</td>\n",
       "      <td>...</td>\n",
       "      <td>...</td>\n",
       "    </tr>\n",
       "    <tr>\n",
       "      <th>95</th>\n",
       "      <td>http://www.unicross.uni-freiburg.de/thema/unifm/</td>\n",
       "      <td>140</td>\n",
       "      <td>1</td>\n",
       "    </tr>\n",
       "    <tr>\n",
       "      <th>96</th>\n",
       "      <td>http://www.uniklinik-duesseldorf.de/patienten-...</td>\n",
       "      <td>141</td>\n",
       "      <td>1</td>\n",
       "    </tr>\n",
       "    <tr>\n",
       "      <th>97</th>\n",
       "      <td>http://www.vivantes.de/fuer-sie-vor-ort/klinik...</td>\n",
       "      <td>144</td>\n",
       "      <td>2</td>\n",
       "    </tr>\n",
       "    <tr>\n",
       "      <th>98</th>\n",
       "      <td>http://www.vivantes.de/fuer-sie-vor-ort/klinik...</td>\n",
       "      <td>145</td>\n",
       "      <td>2</td>\n",
       "    </tr>\n",
       "    <tr>\n",
       "      <th>99</th>\n",
       "      <td>http://www.walburga-krankenhaus.de/wk/artikel/...</td>\n",
       "      <td>146</td>\n",
       "      <td>1</td>\n",
       "    </tr>\n",
       "  </tbody>\n",
       "</table>\n",
       "<p>100 rows × 3 columns</p>\n",
       "</div>"
      ],
      "text/plain": [
       "                                                  url  doc_id  label\n",
       "0   http://elbe-elster-klinikum.de/fachbereiche/ch...       1      1\n",
       "1   http://klinikum-bayreuth.de/einrichtungen/zent...       3      3\n",
       "2   http://klinikum-braunschweig.de/info.php/?id_o...       4      1\n",
       "3   http://klinikum-braunschweig.de/info.php/?id_o...       5      1\n",
       "4   http://klinikum-braunschweig.de/zuweiser/tumor...       6      3\n",
       "..                                                ...     ...    ...\n",
       "95   http://www.unicross.uni-freiburg.de/thema/unifm/     140      1\n",
       "96  http://www.uniklinik-duesseldorf.de/patienten-...     141      1\n",
       "97  http://www.vivantes.de/fuer-sie-vor-ort/klinik...     144      2\n",
       "98  http://www.vivantes.de/fuer-sie-vor-ort/klinik...     145      2\n",
       "99  http://www.walburga-krankenhaus.de/wk/artikel/...     146      1\n",
       "\n",
       "[100 rows x 3 columns]"
      ]
     },
     "execution_count": 7,
     "metadata": {},
     "output_type": "execute_result"
    }
   ],
   "source": [
    "train_df = pd.read_csv(\"train.csv\")\n",
    "test_df = pd.read_csv(\"test.csv\")\n",
    "train_df"
   ]
  },
  {
   "cell_type": "markdown",
   "metadata": {},
   "source": [
    "Let's remove `url` column as it's not needed and load texts to another column"
   ]
  },
  {
   "cell_type": "code",
   "execution_count": 8,
   "metadata": {},
   "outputs": [
    {
     "data": {
      "text/html": [
       "<div>\n",
       "<style scoped>\n",
       "    .dataframe tbody tr th:only-of-type {\n",
       "        vertical-align: middle;\n",
       "    }\n",
       "\n",
       "    .dataframe tbody tr th {\n",
       "        vertical-align: top;\n",
       "    }\n",
       "\n",
       "    .dataframe thead th {\n",
       "        text-align: right;\n",
       "    }\n",
       "</style>\n",
       "<table border=\"1\" class=\"dataframe\">\n",
       "  <thead>\n",
       "    <tr style=\"text-align: right;\">\n",
       "      <th></th>\n",
       "      <th>doc_id</th>\n",
       "      <th>label</th>\n",
       "      <th>text</th>\n",
       "    </tr>\n",
       "  </thead>\n",
       "  <tbody>\n",
       "    <tr>\n",
       "      <th>0</th>\n",
       "      <td>1</td>\n",
       "      <td>1</td>\n",
       "      <td>\\n \\n \\n \\n \\n \\n \\n \\n Elbe-Elster Klinikum -...</td>\n",
       "    </tr>\n",
       "    <tr>\n",
       "      <th>1</th>\n",
       "      <td>3</td>\n",
       "      <td>3</td>\n",
       "      <td>\\n \\n \\n \\n \\n \\n \\n \\n Onkologisches Zentrum ...</td>\n",
       "    </tr>\n",
       "    <tr>\n",
       "      <th>2</th>\n",
       "      <td>4</td>\n",
       "      <td>1</td>\n",
       "      <td>\\n \\n \\n Zentrum - SozialpÃ¤diatrisches Zentru...</td>\n",
       "    </tr>\n",
       "    <tr>\n",
       "      <th>3</th>\n",
       "      <td>5</td>\n",
       "      <td>1</td>\n",
       "      <td>\\n \\n \\n Leistung - Spezielle UnterstÃ¼tzung b...</td>\n",
       "    </tr>\n",
       "    <tr>\n",
       "      <th>4</th>\n",
       "      <td>6</td>\n",
       "      <td>3</td>\n",
       "      <td>\\n \\n \\n Zuweiser - Tumorkonferenzen - Tumorko...</td>\n",
       "    </tr>\n",
       "    <tr>\n",
       "      <th>...</th>\n",
       "      <td>...</td>\n",
       "      <td>...</td>\n",
       "      <td>...</td>\n",
       "    </tr>\n",
       "    <tr>\n",
       "      <th>95</th>\n",
       "      <td>140</td>\n",
       "      <td>1</td>\n",
       "      <td>\\n \\n \\n \\n \\n \\n \\n \\n \\n \\n \\n \\n uniFM | un...</td>\n",
       "    </tr>\n",
       "    <tr>\n",
       "      <th>96</th>\n",
       "      <td>141</td>\n",
       "      <td>1</td>\n",
       "      <td>\\n \\n \\n \\n \\n \\n \\n \\n \\n \\n \\n \\n \\n \\n \\n \\...</td>\n",
       "    </tr>\n",
       "    <tr>\n",
       "      <th>97</th>\n",
       "      <td>144</td>\n",
       "      <td>2</td>\n",
       "      <td>\\n \\n \\n \\n \\n \\n \\n \\n \\n \\n \\n \\n \\n FÃ¼r Ã...</td>\n",
       "    </tr>\n",
       "    <tr>\n",
       "      <th>98</th>\n",
       "      <td>145</td>\n",
       "      <td>2</td>\n",
       "      <td>\\n \\n \\n \\n \\n \\n \\n \\n \\n \\n \\n \\n \\n \\n \\n I...</td>\n",
       "    </tr>\n",
       "    <tr>\n",
       "      <th>99</th>\n",
       "      <td>146</td>\n",
       "      <td>1</td>\n",
       "      <td>\\n \\n \\n \\n Versorgung von Krebspatienten stÃ¤...</td>\n",
       "    </tr>\n",
       "  </tbody>\n",
       "</table>\n",
       "<p>100 rows × 3 columns</p>\n",
       "</div>"
      ],
      "text/plain": [
       "    doc_id  label                                               text\n",
       "0        1      1  \\n \\n \\n \\n \\n \\n \\n \\n Elbe-Elster Klinikum -...\n",
       "1        3      3  \\n \\n \\n \\n \\n \\n \\n \\n Onkologisches Zentrum ...\n",
       "2        4      1  \\n \\n \\n Zentrum - SozialpÃ¤diatrisches Zentru...\n",
       "3        5      1  \\n \\n \\n Leistung - Spezielle UnterstÃ¼tzung b...\n",
       "4        6      3  \\n \\n \\n Zuweiser - Tumorkonferenzen - Tumorko...\n",
       "..     ...    ...                                                ...\n",
       "95     140      1  \\n \\n \\n \\n \\n \\n \\n \\n \\n \\n \\n \\n uniFM | un...\n",
       "96     141      1  \\n \\n \\n \\n \\n \\n \\n \\n \\n \\n \\n \\n \\n \\n \\n \\...\n",
       "97     144      2  \\n \\n \\n \\n \\n \\n \\n \\n \\n \\n \\n \\n \\n FÃ¼r Ã...\n",
       "98     145      2  \\n \\n \\n \\n \\n \\n \\n \\n \\n \\n \\n \\n \\n \\n \\n I...\n",
       "99     146      1  \\n \\n \\n \\n Versorgung von Krebspatienten stÃ¤...\n",
       "\n",
       "[100 rows x 3 columns]"
      ]
     },
     "execution_count": 8,
     "metadata": {},
     "output_type": "execute_result"
    }
   ],
   "source": [
    "for df_ in (train_df, test_df):\n",
    "    del df_['url']\n",
    "    df_['text'] = df_['doc_id'].apply(lambda x: all_texts[x])\n",
    "train_df"
   ]
  },
  {
   "cell_type": "markdown",
   "metadata": {},
   "source": [
    "Let's also check how much data we have for each label"
   ]
  },
  {
   "cell_type": "code",
   "execution_count": 9,
   "metadata": {},
   "outputs": [
    {
     "data": {
      "text/plain": [
       "2    59\n",
       "1    32\n",
       "3     9\n",
       "Name: label, dtype: int64"
      ]
     },
     "execution_count": 9,
     "metadata": {},
     "output_type": "execute_result"
    }
   ],
   "source": [
    "train_df.label.value_counts()"
   ]
  },
  {
   "cell_type": "markdown",
   "metadata": {},
   "source": [
    "As we can see there's a huge imbalance in our data distribution. We'll try to tackle this issue with a couple of approaches:\n",
    "- oversamling of the least populated group\n",
    "- grouping labels 2 and 3 together to perform binary classification\n",
    "\n",
    "But first let's clean our data."
   ]
  },
  {
   "cell_type": "markdown",
   "metadata": {},
   "source": [
    "### Now we'll be cleaning and tokenizing our data\n",
    "\n",
    "For that purpose we'll use spacy and it's pre-trained German language model. We'll be using the smallest one available, larger ones could provide better performence, however they're quite big and slow."
   ]
  },
  {
   "cell_type": "code",
   "execution_count": 10,
   "metadata": {},
   "outputs": [],
   "source": [
    "nlp = spacy.load(\"de_core_news_sm\")"
   ]
  },
  {
   "cell_type": "markdown",
   "metadata": {},
   "source": [
    "Let's define our tokenizing and cleaning functions"
   ]
  },
  {
   "cell_type": "code",
   "execution_count": 11,
   "metadata": {},
   "outputs": [],
   "source": [
    "def preprocessor(text: str) -> str:\n",
    "    \"\"\"\n",
    "    Removes punctuation from text using regular expressions\n",
    "    \"\"\"\n",
    "    text = re.sub('<[^>]*>', '', text)\n",
    "    text = re.sub('[\\W]+', '', text.lower())\n",
    "    text = re.sub('^\\d+$', '', text)\n",
    "    \n",
    "    return text\n",
    "\n",
    "\n",
    "def tokenize(sent: spacy.tokens.Span) -> list[str]:\n",
    "    \"\"\"\n",
    "    Extracts a list of word lemmas from spacy's sentence object.\n",
    "    Stopwords are filtered out as well as tokens representing only\n",
    "    whitespace or punctuation.\n",
    "    \"\"\"\n",
    "    lemmas = [\n",
    "        preprocessor(token.lemma_)\n",
    "        for token in sent\n",
    "        if all([\n",
    "            not token.is_stop,\n",
    "            token.pos_ not in {\"SPACE\", \"PUNCT\"}\n",
    "        ])\n",
    "    ]\n",
    "    return [lem for lem in lemmas if lem]\n",
    "\n",
    "\n",
    "def tokenize_all(text: str) -> list[list[str]]:\n",
    "    \"\"\"\n",
    "    Parses text to a list of lists. \n",
    "    Each list inside the main list represents a sentence in text.\n",
    "    All tokens in the sentence are cleaned, lemmatized and filtered.\n",
    "    \"\"\"\n",
    "    global nlp\n",
    "    \n",
    "    doc = nlp(text)\n",
    "    \n",
    "    return [\n",
    "        tok\n",
    "        for sent in doc.sents\n",
    "        for tok in tokenize(sent)\n",
    "    ]"
   ]
  },
  {
   "cell_type": "markdown",
   "metadata": {},
   "source": [
    "And now apply them to our texts"
   ]
  },
  {
   "cell_type": "code",
   "execution_count": 12,
   "metadata": {},
   "outputs": [
    {
     "data": {
      "text/html": [
       "<div>\n",
       "<style scoped>\n",
       "    .dataframe tbody tr th:only-of-type {\n",
       "        vertical-align: middle;\n",
       "    }\n",
       "\n",
       "    .dataframe tbody tr th {\n",
       "        vertical-align: top;\n",
       "    }\n",
       "\n",
       "    .dataframe thead th {\n",
       "        text-align: right;\n",
       "    }\n",
       "</style>\n",
       "<table border=\"1\" class=\"dataframe\">\n",
       "  <thead>\n",
       "    <tr style=\"text-align: right;\">\n",
       "      <th></th>\n",
       "      <th>doc_id</th>\n",
       "      <th>label</th>\n",
       "      <th>text</th>\n",
       "      <th>tokens</th>\n",
       "      <th>clean_text</th>\n",
       "    </tr>\n",
       "  </thead>\n",
       "  <tbody>\n",
       "    <tr>\n",
       "      <th>0</th>\n",
       "      <td>1</td>\n",
       "      <td>1</td>\n",
       "      <td>\\n \\n \\n \\n \\n \\n \\n \\n Elbe-Elster Klinikum -...</td>\n",
       "      <td>[elbeelster, klinikum, chirurgie, finsterwalde...</td>\n",
       "      <td>elbeelster klinikum chirurgie finsterwalde suc...</td>\n",
       "    </tr>\n",
       "    <tr>\n",
       "      <th>1</th>\n",
       "      <td>3</td>\n",
       "      <td>3</td>\n",
       "      <td>\\n \\n \\n \\n \\n \\n \\n \\n Onkologisches Zentrum ...</td>\n",
       "      <td>[onkologisches, zentrum, klinikum, bayreuth, a...</td>\n",
       "      <td>onkologisches zentrum klinikum bayreuth aktuel...</td>\n",
       "    </tr>\n",
       "    <tr>\n",
       "      <th>2</th>\n",
       "      <td>4</td>\n",
       "      <td>1</td>\n",
       "      <td>\\n \\n \\n Zentrum - SozialpÃ¤diatrisches Zentru...</td>\n",
       "      <td>[zentrum, sozialpãdiatrisches, zentrum, stãdti...</td>\n",
       "      <td>zentrum sozialpãdiatrisches zentrum stãdtische...</td>\n",
       "    </tr>\n",
       "    <tr>\n",
       "      <th>3</th>\n",
       "      <td>5</td>\n",
       "      <td>1</td>\n",
       "      <td>\\n \\n \\n Leistung - Spezielle UnterstÃ¼tzung b...</td>\n",
       "      <td>[leistung, speziell, unterstã¼tzung, anmeldung...</td>\n",
       "      <td>leistung speziell unterstã¼tzung anmeldung geb...</td>\n",
       "    </tr>\n",
       "    <tr>\n",
       "      <th>4</th>\n",
       "      <td>6</td>\n",
       "      <td>3</td>\n",
       "      <td>\\n \\n \\n Zuweiser - Tumorkonferenzen - Tumorko...</td>\n",
       "      <td>[zuweiser, tumorkonferenzen, tumorkonferenz, g...</td>\n",
       "      <td>zuweiser tumorkonferenzen tumorkonferenz gastr...</td>\n",
       "    </tr>\n",
       "    <tr>\n",
       "      <th>...</th>\n",
       "      <td>...</td>\n",
       "      <td>...</td>\n",
       "      <td>...</td>\n",
       "      <td>...</td>\n",
       "      <td>...</td>\n",
       "    </tr>\n",
       "    <tr>\n",
       "      <th>95</th>\n",
       "      <td>140</td>\n",
       "      <td>1</td>\n",
       "      <td>\\n \\n \\n \\n \\n \\n \\n \\n \\n \\n \\n \\n uniFM | un...</td>\n",
       "      <td>[unifm, unicross, news, and, magazin, theme, h...</td>\n",
       "      <td>unifm unicross news and magazin theme home kon...</td>\n",
       "    </tr>\n",
       "    <tr>\n",
       "      <th>96</th>\n",
       "      <td>141</td>\n",
       "      <td>1</td>\n",
       "      <td>\\n \\n \\n \\n \\n \\n \\n \\n \\n \\n \\n \\n \\n \\n \\n \\...</td>\n",
       "      <td>[interdisziplinãre, neurovaskulãre, konferenz,...</td>\n",
       "      <td>interdisziplinãre neurovaskulãre konferenz ǀ u...</td>\n",
       "    </tr>\n",
       "    <tr>\n",
       "      <th>97</th>\n",
       "      <td>144</td>\n",
       "      <td>2</td>\n",
       "      <td>\\n \\n \\n \\n \\n \\n \\n \\n \\n \\n \\n \\n \\n FÃ¼r Ã...</td>\n",
       "      <td>[fã¼r, ãrzte, vivantes, javascript, scheinen, ...</td>\n",
       "      <td>fã¼r ãrzte vivantes javascript scheinen browse...</td>\n",
       "    </tr>\n",
       "    <tr>\n",
       "      <th>98</th>\n",
       "      <td>145</td>\n",
       "      <td>2</td>\n",
       "      <td>\\n \\n \\n \\n \\n \\n \\n \\n \\n \\n \\n \\n \\n \\n \\n I...</td>\n",
       "      <td>[innere, medizin, â, hãmatologie, onkologie, p...</td>\n",
       "      <td>innere medizin â hãmatologie onkologie palliat...</td>\n",
       "    </tr>\n",
       "    <tr>\n",
       "      <th>99</th>\n",
       "      <td>146</td>\n",
       "      <td>1</td>\n",
       "      <td>\\n \\n \\n \\n Versorgung von Krebspatienten stÃ¤...</td>\n",
       "      <td>[versorgung, krebspatienten, stãrken, st, walb...</td>\n",
       "      <td>versorgung krebspatienten stãrken st walburgak...</td>\n",
       "    </tr>\n",
       "  </tbody>\n",
       "</table>\n",
       "<p>100 rows × 5 columns</p>\n",
       "</div>"
      ],
      "text/plain": [
       "    doc_id  label                                               text  \\\n",
       "0        1      1  \\n \\n \\n \\n \\n \\n \\n \\n Elbe-Elster Klinikum -...   \n",
       "1        3      3  \\n \\n \\n \\n \\n \\n \\n \\n Onkologisches Zentrum ...   \n",
       "2        4      1  \\n \\n \\n Zentrum - SozialpÃ¤diatrisches Zentru...   \n",
       "3        5      1  \\n \\n \\n Leistung - Spezielle UnterstÃ¼tzung b...   \n",
       "4        6      3  \\n \\n \\n Zuweiser - Tumorkonferenzen - Tumorko...   \n",
       "..     ...    ...                                                ...   \n",
       "95     140      1  \\n \\n \\n \\n \\n \\n \\n \\n \\n \\n \\n \\n uniFM | un...   \n",
       "96     141      1  \\n \\n \\n \\n \\n \\n \\n \\n \\n \\n \\n \\n \\n \\n \\n \\...   \n",
       "97     144      2  \\n \\n \\n \\n \\n \\n \\n \\n \\n \\n \\n \\n \\n FÃ¼r Ã...   \n",
       "98     145      2  \\n \\n \\n \\n \\n \\n \\n \\n \\n \\n \\n \\n \\n \\n \\n I...   \n",
       "99     146      1  \\n \\n \\n \\n Versorgung von Krebspatienten stÃ¤...   \n",
       "\n",
       "                                               tokens  \\\n",
       "0   [elbeelster, klinikum, chirurgie, finsterwalde...   \n",
       "1   [onkologisches, zentrum, klinikum, bayreuth, a...   \n",
       "2   [zentrum, sozialpãdiatrisches, zentrum, stãdti...   \n",
       "3   [leistung, speziell, unterstã¼tzung, anmeldung...   \n",
       "4   [zuweiser, tumorkonferenzen, tumorkonferenz, g...   \n",
       "..                                                ...   \n",
       "95  [unifm, unicross, news, and, magazin, theme, h...   \n",
       "96  [interdisziplinãre, neurovaskulãre, konferenz,...   \n",
       "97  [fã¼r, ãrzte, vivantes, javascript, scheinen, ...   \n",
       "98  [innere, medizin, â, hãmatologie, onkologie, p...   \n",
       "99  [versorgung, krebspatienten, stãrken, st, walb...   \n",
       "\n",
       "                                           clean_text  \n",
       "0   elbeelster klinikum chirurgie finsterwalde suc...  \n",
       "1   onkologisches zentrum klinikum bayreuth aktuel...  \n",
       "2   zentrum sozialpãdiatrisches zentrum stãdtische...  \n",
       "3   leistung speziell unterstã¼tzung anmeldung geb...  \n",
       "4   zuweiser tumorkonferenzen tumorkonferenz gastr...  \n",
       "..                                                ...  \n",
       "95  unifm unicross news and magazin theme home kon...  \n",
       "96  interdisziplinãre neurovaskulãre konferenz ǀ u...  \n",
       "97  fã¼r ãrzte vivantes javascript scheinen browse...  \n",
       "98  innere medizin â hãmatologie onkologie palliat...  \n",
       "99  versorgung krebspatienten stãrken st walburgak...  \n",
       "\n",
       "[100 rows x 5 columns]"
      ]
     },
     "execution_count": 12,
     "metadata": {},
     "output_type": "execute_result"
    }
   ],
   "source": [
    "for df_ in (train_df, test_df):\n",
    "    df_['tokens'] = df_['text'].apply(tokenize_all)\n",
    "    df_['clean_text'] = df_['tokens'].apply(lambda toks: \" \".join(toks))\n",
    "    \n",
    "train_df"
   ]
  },
  {
   "cell_type": "markdown",
   "metadata": {},
   "source": [
    "Now we'll oversample our data so that there are 20 samples for label 3"
   ]
  },
  {
   "cell_type": "code",
   "execution_count": 13,
   "metadata": {},
   "outputs": [
    {
     "data": {
      "text/plain": [
       "2    59\n",
       "1    32\n",
       "3    20\n",
       "Name: label, dtype: int64"
      ]
     },
     "execution_count": 13,
     "metadata": {},
     "output_type": "execute_result"
    }
   ],
   "source": [
    "class_3_oversample = train_df[train_df.label == 3].sample(20, replace=True, random_state=0)\n",
    "os_train_df = pd.concat([train_df[train_df.label != 3], class_3_oversample])\n",
    "os_train_df.label.value_counts()"
   ]
  },
  {
   "cell_type": "markdown",
   "metadata": {},
   "source": [
    "### Text vectors\n",
    "\n",
    "Now we'll transform text data into vectors. First we'll try to use spacy's pre-defined word embeddings from the language model we're using."
   ]
  },
  {
   "cell_type": "code",
   "execution_count": 14,
   "metadata": {},
   "outputs": [
    {
     "data": {
      "text/plain": [
       "(96,)"
      ]
     },
     "execution_count": 14,
     "metadata": {},
     "output_type": "execute_result"
    }
   ],
   "source": [
    "os_train_df['spacy_vectors'] = os_train_df['clean_text'].apply(lambda txt: nlp(txt).vector)\n",
    "os_train_df['spacy_vectors'][0].shape"
   ]
  },
  {
   "cell_type": "markdown",
   "metadata": {},
   "source": [
    "### Model training\n",
    "\n",
    "This is time to finally try out our data on an actual model. We'll start with a simple LogisticRegression. But first we'll define model evaluating functions."
   ]
  },
  {
   "cell_type": "code",
   "execution_count": 15,
   "metadata": {},
   "outputs": [],
   "source": [
    "def eval_model(\n",
    "    clf: BaseEstimator, \n",
    "    x_test: np.ndarray, \n",
    "    y_test: np.ndarray\n",
    ") -> None:\n",
    "    \"\"\"\n",
    "    Calculates and displays evaluation metrics \n",
    "    for passed classifier and data\n",
    "    \"\"\"\n",
    "    y_pred = clf.predict(x_test)\n",
    "    \n",
    "    acc = accuracy_score(y_test, y_pred)\n",
    "    report = classification_report(y_test, y_pred)\n",
    "    \n",
    "    plot_confusion_matrix(clf, x_test, y_test)\n",
    "    plt.show()\n",
    "    \n",
    "    print(f'Accuracy {acc}\\n')\n",
    "    print(report)\n",
    "    \n",
    "    \n",
    "def fit_and_eval(\n",
    "    clf: BaseEstimator, \n",
    "    X_trn: np.ndarray, \n",
    "    x_test: np.ndarray, \n",
    "    Y_trn: np.ndarray, \n",
    "    y_test: np.ndarray\n",
    ") -> BaseEstimator:\n",
    "    \"\"\"\n",
    "    Trains and evaluates passed classifier\n",
    "    with passed data\n",
    "    \"\"\"\n",
    "    clf.fit(X_trn, Y_trn)\n",
    "    \n",
    "    eval_model(clf, x_test, y_test)\n",
    "    \n",
    "    return clf"
   ]
  },
  {
   "cell_type": "markdown",
   "metadata": {},
   "source": [
    "Now split the data for training and evalutation."
   ]
  },
  {
   "cell_type": "code",
   "execution_count": 16,
   "metadata": {},
   "outputs": [],
   "source": [
    "x, y = np.stack(os_train_df.spacy_vectors), os_train_df.label.to_numpy()\n",
    "X_train, x_val, Y_train, y_val = train_test_split(x, y, train_size=0.9, shuffle=True, random_state=1, stratify=y)"
   ]
  },
  {
   "cell_type": "markdown",
   "metadata": {},
   "source": [
    "And train the model."
   ]
  },
  {
   "cell_type": "code",
   "execution_count": 17,
   "metadata": {},
   "outputs": [
    {
     "data": {
      "image/png": "[encoded data removed]",
      "text/plain": [
       "<Figure size 432x288 with 2 Axes>"
      ]
     },
     "metadata": {
      "needs_background": "light"
     },
     "output_type": "display_data"
    },
    {
     "name": "stdout",
     "output_type": "stream",
     "text": [
      "Accuracy 0.6666666666666666\n",
      "\n",
      "              precision    recall  f1-score   support\n",
      "\n",
      "           1       0.67      1.00      0.80         4\n",
      "           2       1.00      0.33      0.50         6\n",
      "           3       0.50      1.00      0.67         2\n",
      "\n",
      "    accuracy                           0.67        12\n",
      "   macro avg       0.72      0.78      0.66        12\n",
      "weighted avg       0.81      0.67      0.63        12\n",
      "\n"
     ]
    }
   ],
   "source": [
    "lgr = fit_and_eval(\n",
    "    LogisticRegression(n_jobs=10, C=1, class_weight=\"balanced\"),\n",
    "    X_train, x_val, Y_train, y_val\n",
    ")"
   ]
  },
  {
   "cell_type": "markdown",
   "metadata": {},
   "source": [
    "Results aren't outstanding.\n",
    "\n",
    "Now we'll try to use word vectors retrieved by using TF-IDF and compare the results. We'll pass provided tumorboard keywords as vectorizer's vocabulary."
   ]
  },
  {
   "cell_type": "code",
   "execution_count": 18,
   "metadata": {},
   "outputs": [],
   "source": [
    "kw2tt = pd.read_csv(\"keyword2tumor_type.csv\")"
   ]
  },
  {
   "cell_type": "code",
   "execution_count": 19,
   "metadata": {},
   "outputs": [
    {
     "data": {
      "text/html": [
       "<div>\n",
       "<style scoped>\n",
       "    .dataframe tbody tr th:only-of-type {\n",
       "        vertical-align: middle;\n",
       "    }\n",
       "\n",
       "    .dataframe tbody tr th {\n",
       "        vertical-align: top;\n",
       "    }\n",
       "\n",
       "    .dataframe thead th {\n",
       "        text-align: right;\n",
       "    }\n",
       "</style>\n",
       "<table border=\"1\" class=\"dataframe\">\n",
       "  <thead>\n",
       "    <tr style=\"text-align: right;\">\n",
       "      <th></th>\n",
       "      <th>doc_id</th>\n",
       "      <th>label</th>\n",
       "      <th>text</th>\n",
       "      <th>tokens</th>\n",
       "      <th>clean_text</th>\n",
       "      <th>spacy_vectors</th>\n",
       "      <th>tfidf_vectors</th>\n",
       "    </tr>\n",
       "  </thead>\n",
       "  <tbody>\n",
       "    <tr>\n",
       "      <th>0</th>\n",
       "      <td>1</td>\n",
       "      <td>1</td>\n",
       "      <td>\\n \\n \\n \\n \\n \\n \\n \\n Elbe-Elster Klinikum -...</td>\n",
       "      <td>[elbeelster, klinikum, chirurgie, finsterwalde...</td>\n",
       "      <td>elbeelster klinikum chirurgie finsterwalde suc...</td>\n",
       "      <td>[-0.53063667, 0.2895801, 0.9528262, 0.1834897,...</td>\n",
       "      <td>[0.0, 0.23551310942693068, 0.0, 0.0, 0.0, 0.0,...</td>\n",
       "    </tr>\n",
       "    <tr>\n",
       "      <th>2</th>\n",
       "      <td>4</td>\n",
       "      <td>1</td>\n",
       "      <td>\\n \\n \\n Zentrum - SozialpÃ¤diatrisches Zentru...</td>\n",
       "      <td>[zentrum, sozialpãdiatrisches, zentrum, stãdti...</td>\n",
       "      <td>zentrum sozialpãdiatrisches zentrum stãdtische...</td>\n",
       "      <td>[-0.5575327, -0.081390426, 0.57074475, 0.19425...</td>\n",
       "      <td>[0.0, 0.0, 0.0, 0.0, 0.0, 0.0, 0.0, 0.0, 0.0, ...</td>\n",
       "    </tr>\n",
       "    <tr>\n",
       "      <th>3</th>\n",
       "      <td>5</td>\n",
       "      <td>1</td>\n",
       "      <td>\\n \\n \\n Leistung - Spezielle UnterstÃ¼tzung b...</td>\n",
       "      <td>[leistung, speziell, unterstã¼tzung, anmeldung...</td>\n",
       "      <td>leistung speziell unterstã¼tzung anmeldung geb...</td>\n",
       "      <td>[-0.6617667, -0.1581502, 0.7799465, 0.25224572...</td>\n",
       "      <td>[0.0, 0.0, 0.0, 0.0, 0.0, 0.0, 0.0, 0.0, 0.0, ...</td>\n",
       "    </tr>\n",
       "    <tr>\n",
       "      <th>5</th>\n",
       "      <td>8</td>\n",
       "      <td>1</td>\n",
       "      <td>\\n \\n \\n \\n Krebszentrum Reutlingen: Impressum...</td>\n",
       "      <td>[krebszentrum, reutlingen, impressum, kreiskli...</td>\n",
       "      <td>krebszentrum reutlingen impressum kreisklinike...</td>\n",
       "      <td>[-0.08251338, -0.26053467, 0.7124723, 0.159013...</td>\n",
       "      <td>[0.0, 0.27401512797076716, 0.0, 0.0, 0.0, 0.0,...</td>\n",
       "    </tr>\n",
       "    <tr>\n",
       "      <th>6</th>\n",
       "      <td>9</td>\n",
       "      <td>1</td>\n",
       "      <td>\\n \\n \\n \\n Ãsthetische Brustchirurgie - kreb...</td>\n",
       "      <td>[ãsthetische, brustchirurgie, krebszentrumkrei...</td>\n",
       "      <td>ãsthetische brustchirurgie krebszentrumkreiskl...</td>\n",
       "      <td>[-0.056941252, -0.20380035, 0.7193041, 0.21975...</td>\n",
       "      <td>[0.0, 0.7448209232909639, 0.0, 0.0, 0.0, 0.0, ...</td>\n",
       "    </tr>\n",
       "    <tr>\n",
       "      <th>...</th>\n",
       "      <td>...</td>\n",
       "      <td>...</td>\n",
       "      <td>...</td>\n",
       "      <td>...</td>\n",
       "      <td>...</td>\n",
       "      <td>...</td>\n",
       "      <td>...</td>\n",
       "    </tr>\n",
       "    <tr>\n",
       "      <th>65</th>\n",
       "      <td>100</td>\n",
       "      <td>3</td>\n",
       "      <td>\\n \\n \\n \\n \\n \\n Ãrztliche Weiterbildung \\n ...</td>\n",
       "      <td>[ãrztliche, weiterbildung, impressum, datensch...</td>\n",
       "      <td>ãrztliche weiterbildung impressum datenschutz ...</td>\n",
       "      <td>[-0.66163003, 0.22765392, 1.1872609, 0.0680871...</td>\n",
       "      <td>[0.0, 0.0, 0.0, 0.0, 0.0, 0.0, 0.0, 0.0, 0.584...</td>\n",
       "    </tr>\n",
       "    <tr>\n",
       "      <th>65</th>\n",
       "      <td>100</td>\n",
       "      <td>3</td>\n",
       "      <td>\\n \\n \\n \\n \\n \\n Ãrztliche Weiterbildung \\n ...</td>\n",
       "      <td>[ãrztliche, weiterbildung, impressum, datensch...</td>\n",
       "      <td>ãrztliche weiterbildung impressum datenschutz ...</td>\n",
       "      <td>[-0.66163003, 0.22765392, 1.1872609, 0.0680871...</td>\n",
       "      <td>[0.0, 0.0, 0.0, 0.0, 0.0, 0.0, 0.0, 0.0, 0.584...</td>\n",
       "    </tr>\n",
       "    <tr>\n",
       "      <th>67</th>\n",
       "      <td>102</td>\n",
       "      <td>3</td>\n",
       "      <td>\\n \\n \\n \\n \\n \\n \\n \\n \\n \\n \\n \\n \\n \\n \\n \\...</td>\n",
       "      <td>[tumorkonferenz, x, unternehmen, karriere, kon...</td>\n",
       "      <td>tumorkonferenz x unternehmen karriere kontakt ...</td>\n",
       "      <td>[-0.7174796, 0.226036, 0.87725824, 0.2759676, ...</td>\n",
       "      <td>[0.0, 0.5500855093740707, 0.0, 0.0, 0.0, 0.0, ...</td>\n",
       "    </tr>\n",
       "    <tr>\n",
       "      <th>4</th>\n",
       "      <td>6</td>\n",
       "      <td>3</td>\n",
       "      <td>\\n \\n \\n Zuweiser - Tumorkonferenzen - Tumorko...</td>\n",
       "      <td>[zuweiser, tumorkonferenzen, tumorkonferenz, g...</td>\n",
       "      <td>zuweiser tumorkonferenzen tumorkonferenz gastr...</td>\n",
       "      <td>[-0.8314079, -0.01758165, 0.74393255, 0.143312...</td>\n",
       "      <td>[0.0, 0.0, 0.0, 0.0, 0.0, 0.0, 0.0, 0.0, 0.141...</td>\n",
       "    </tr>\n",
       "    <tr>\n",
       "      <th>39</th>\n",
       "      <td>57</td>\n",
       "      <td>3</td>\n",
       "      <td>\\n \\n \\n \\n \\n \\n \\n \\n \\n \\n \\n Interdiszipli...</td>\n",
       "      <td>[interdisziplinãre, zusammenarbeit, hãmatologi...</td>\n",
       "      <td>interdisziplinãre zusammenarbeit hãmatologie o...</td>\n",
       "      <td>[-0.5708069, 0.28050774, 1.2962285, 0.02655096...</td>\n",
       "      <td>[0.0, 0.0, 0.0, 0.0, 0.0, 0.0, 0.0, 0.0, 0.0, ...</td>\n",
       "    </tr>\n",
       "  </tbody>\n",
       "</table>\n",
       "<p>111 rows × 7 columns</p>\n",
       "</div>"
      ],
      "text/plain": [
       "    doc_id  label                                               text  \\\n",
       "0        1      1  \\n \\n \\n \\n \\n \\n \\n \\n Elbe-Elster Klinikum -...   \n",
       "2        4      1  \\n \\n \\n Zentrum - SozialpÃ¤diatrisches Zentru...   \n",
       "3        5      1  \\n \\n \\n Leistung - Spezielle UnterstÃ¼tzung b...   \n",
       "5        8      1  \\n \\n \\n \\n Krebszentrum Reutlingen: Impressum...   \n",
       "6        9      1  \\n \\n \\n \\n Ãsthetische Brustchirurgie - kreb...   \n",
       "..     ...    ...                                                ...   \n",
       "65     100      3  \\n \\n \\n \\n \\n \\n Ãrztliche Weiterbildung \\n ...   \n",
       "65     100      3  \\n \\n \\n \\n \\n \\n Ãrztliche Weiterbildung \\n ...   \n",
       "67     102      3  \\n \\n \\n \\n \\n \\n \\n \\n \\n \\n \\n \\n \\n \\n \\n \\...   \n",
       "4        6      3  \\n \\n \\n Zuweiser - Tumorkonferenzen - Tumorko...   \n",
       "39      57      3  \\n \\n \\n \\n \\n \\n \\n \\n \\n \\n \\n Interdiszipli...   \n",
       "\n",
       "                                               tokens  \\\n",
       "0   [elbeelster, klinikum, chirurgie, finsterwalde...   \n",
       "2   [zentrum, sozialpãdiatrisches, zentrum, stãdti...   \n",
       "3   [leistung, speziell, unterstã¼tzung, anmeldung...   \n",
       "5   [krebszentrum, reutlingen, impressum, kreiskli...   \n",
       "6   [ãsthetische, brustchirurgie, krebszentrumkrei...   \n",
       "..                                                ...   \n",
       "65  [ãrztliche, weiterbildung, impressum, datensch...   \n",
       "65  [ãrztliche, weiterbildung, impressum, datensch...   \n",
       "67  [tumorkonferenz, x, unternehmen, karriere, kon...   \n",
       "4   [zuweiser, tumorkonferenzen, tumorkonferenz, g...   \n",
       "39  [interdisziplinãre, zusammenarbeit, hãmatologi...   \n",
       "\n",
       "                                           clean_text  \\\n",
       "0   elbeelster klinikum chirurgie finsterwalde suc...   \n",
       "2   zentrum sozialpãdiatrisches zentrum stãdtische...   \n",
       "3   leistung speziell unterstã¼tzung anmeldung geb...   \n",
       "5   krebszentrum reutlingen impressum kreisklinike...   \n",
       "6   ãsthetische brustchirurgie krebszentrumkreiskl...   \n",
       "..                                                ...   \n",
       "65  ãrztliche weiterbildung impressum datenschutz ...   \n",
       "65  ãrztliche weiterbildung impressum datenschutz ...   \n",
       "67  tumorkonferenz x unternehmen karriere kontakt ...   \n",
       "4   zuweiser tumorkonferenzen tumorkonferenz gastr...   \n",
       "39  interdisziplinãre zusammenarbeit hãmatologie o...   \n",
       "\n",
       "                                        spacy_vectors  \\\n",
       "0   [-0.53063667, 0.2895801, 0.9528262, 0.1834897,...   \n",
       "2   [-0.5575327, -0.081390426, 0.57074475, 0.19425...   \n",
       "3   [-0.6617667, -0.1581502, 0.7799465, 0.25224572...   \n",
       "5   [-0.08251338, -0.26053467, 0.7124723, 0.159013...   \n",
       "6   [-0.056941252, -0.20380035, 0.7193041, 0.21975...   \n",
       "..                                                ...   \n",
       "65  [-0.66163003, 0.22765392, 1.1872609, 0.0680871...   \n",
       "65  [-0.66163003, 0.22765392, 1.1872609, 0.0680871...   \n",
       "67  [-0.7174796, 0.226036, 0.87725824, 0.2759676, ...   \n",
       "4   [-0.8314079, -0.01758165, 0.74393255, 0.143312...   \n",
       "39  [-0.5708069, 0.28050774, 1.2962285, 0.02655096...   \n",
       "\n",
       "                                        tfidf_vectors  \n",
       "0   [0.0, 0.23551310942693068, 0.0, 0.0, 0.0, 0.0,...  \n",
       "2   [0.0, 0.0, 0.0, 0.0, 0.0, 0.0, 0.0, 0.0, 0.0, ...  \n",
       "3   [0.0, 0.0, 0.0, 0.0, 0.0, 0.0, 0.0, 0.0, 0.0, ...  \n",
       "5   [0.0, 0.27401512797076716, 0.0, 0.0, 0.0, 0.0,...  \n",
       "6   [0.0, 0.7448209232909639, 0.0, 0.0, 0.0, 0.0, ...  \n",
       "..                                                ...  \n",
       "65  [0.0, 0.0, 0.0, 0.0, 0.0, 0.0, 0.0, 0.0, 0.584...  \n",
       "65  [0.0, 0.0, 0.0, 0.0, 0.0, 0.0, 0.0, 0.0, 0.584...  \n",
       "67  [0.0, 0.5500855093740707, 0.0, 0.0, 0.0, 0.0, ...  \n",
       "4   [0.0, 0.0, 0.0, 0.0, 0.0, 0.0, 0.0, 0.0, 0.141...  \n",
       "39  [0.0, 0.0, 0.0, 0.0, 0.0, 0.0, 0.0, 0.0, 0.0, ...  \n",
       "\n",
       "[111 rows x 7 columns]"
      ]
     },
     "execution_count": 19,
     "metadata": {},
     "output_type": "execute_result"
    }
   ],
   "source": [
    "tfidf_vec = TfidfVectorizer(vocabulary=kw2tt.keyword)\n",
    "vectors = tfidf_vec.fit([*train_df.clean_text, *test_df.clean_text])\n",
    "\n",
    "os_train_df['tfidf_vectors'] = tfidf_vec.transform(os_train_df.clean_text).todense().tolist()\n",
    "os_train_df"
   ]
  },
  {
   "cell_type": "markdown",
   "metadata": {},
   "source": [
    "Vectorizing with TF-IDF is much faster than computing average text vectors with spacy. Let's check how it works out."
   ]
  },
  {
   "cell_type": "code",
   "execution_count": 20,
   "metadata": {},
   "outputs": [],
   "source": [
    "x, y = np.stack(os_train_df.tfidf_vectors), os_train_df.label.to_numpy()\n",
    "X_train, x_val, Y_train, y_val = train_test_split(x, y, train_size=0.9, shuffle=True, random_state=1, stratify=y)"
   ]
  },
  {
   "cell_type": "code",
   "execution_count": 21,
   "metadata": {},
   "outputs": [
    {
     "data": {
      "image/png": "[encoded data removed]",
      "text/plain": [
       "<Figure size 432x288 with 2 Axes>"
      ]
     },
     "metadata": {
      "needs_background": "light"
     },
     "output_type": "display_data"
    },
    {
     "name": "stdout",
     "output_type": "stream",
     "text": [
      "Accuracy 0.75\n",
      "\n",
      "              precision    recall  f1-score   support\n",
      "\n",
      "           1       0.67      0.50      0.57         4\n",
      "           2       0.71      0.83      0.77         6\n",
      "           3       1.00      1.00      1.00         2\n",
      "\n",
      "    accuracy                           0.75        12\n",
      "   macro avg       0.79      0.78      0.78        12\n",
      "weighted avg       0.75      0.75      0.74        12\n",
      "\n"
     ]
    }
   ],
   "source": [
    "lgr = fit_and_eval(\n",
    "    LogisticRegression(n_jobs=10, C=1, class_weight=\"balanced\"),\n",
    "    X_train, x_val, Y_train, y_val\n",
    ")"
   ]
  },
  {
   "cell_type": "markdown",
   "metadata": {},
   "source": [
    "TF-IDF vectors gave us better results than spacy's word embeddings. Because of this and their faster generation time we'll stick to them.\n",
    "\n",
    "Maybe using larger language model could improve word embeddings performance, however due to reasons I mentioned before we won't be using them."
   ]
  },
  {
   "cell_type": "code",
   "execution_count": 22,
   "metadata": {},
   "outputs": [],
   "source": [
    "del os_train_df['spacy_vectors']"
   ]
  },
  {
   "cell_type": "markdown",
   "metadata": {},
   "source": [
    "Let's try out some other models for this task.\n",
    "\n",
    "First - support vector machine model."
   ]
  },
  {
   "cell_type": "code",
   "execution_count": 31,
   "metadata": {},
   "outputs": [
    {
     "data": {
      "image/png": "[encoded data removed]",
      "text/plain": [
       "<Figure size 432x288 with 2 Axes>"
      ]
     },
     "metadata": {
      "needs_background": "light"
     },
     "output_type": "display_data"
    },
    {
     "name": "stdout",
     "output_type": "stream",
     "text": [
      "Accuracy 0.5833333333333334\n",
      "\n",
      "              precision    recall  f1-score   support\n",
      "\n",
      "           1       0.50      0.50      0.50         4\n",
      "           2       0.62      0.83      0.71         6\n",
      "           3       0.00      0.00      0.00         2\n",
      "\n",
      "    accuracy                           0.58        12\n",
      "   macro avg       0.38      0.44      0.40        12\n",
      "weighted avg       0.48      0.58      0.52        12\n",
      "\n"
     ]
    }
   ],
   "source": [
    "svc = fit_and_eval(\n",
    "    LinearSVC(penalty='l2', loss='hinge', dual=True, random_state=0, max_iter=100),\n",
    "    X_train, x_val, Y_train, y_val\n",
    ")"
   ]
  },
  {
   "cell_type": "markdown",
   "metadata": {},
   "source": [
    "As we can see the results are worse than with LogisticRegression.\n",
    "\n",
    "Now let's try out a Linear Support Vector Machine with l1 regularization."
   ]
  },
  {
   "cell_type": "code",
   "execution_count": 24,
   "metadata": {},
   "outputs": [
    {
     "data": {
      "image/png": "[encoded data removed]",
      "text/plain": [
       "<Figure size 432x288 with 2 Axes>"
      ]
     },
     "metadata": {
      "needs_background": "light"
     },
     "output_type": "display_data"
    },
    {
     "name": "stdout",
     "output_type": "stream",
     "text": [
      "Accuracy 0.8333333333333334\n",
      "\n",
      "              precision    recall  f1-score   support\n",
      "\n",
      "           1       0.75      0.75      0.75         4\n",
      "           2       0.83      0.83      0.83         6\n",
      "           3       1.00      1.00      1.00         2\n",
      "\n",
      "    accuracy                           0.83        12\n",
      "   macro avg       0.86      0.86      0.86        12\n",
      "weighted avg       0.83      0.83      0.83        12\n",
      "\n"
     ]
    }
   ],
   "source": [
    "sgd = fit_and_eval(\n",
    "    SGDClassifier(penalty='l1', loss='hinge', alpha=1e-3, random_state=0, max_iter=100),\n",
    "    X_train, x_val, Y_train, y_val\n",
    ")"
   ]
  },
  {
   "cell_type": "markdown",
   "metadata": {},
   "source": [
    "This model gave us the best performance from all the ones tried."
   ]
  },
  {
   "cell_type": "markdown",
   "metadata": {},
   "source": [
    "### Binary approach\n",
    "\n",
    "Another approach we can try is to convert labels to binary. As labels 2 and 3 mean similar things but with different level of certainity we can try to group them together. With this approach however we'd need a way to differentiate between those two classes afterwards. We could use prediction probability for this task."
   ]
  },
  {
   "cell_type": "code",
   "execution_count": 25,
   "metadata": {},
   "outputs": [],
   "source": [
    "Y_train_bin = np.array([2 if l == 3 else l for l in Y_train])\n",
    "y_val_bin = np.array([2 if l == 3 else l for l in y_val])"
   ]
  },
  {
   "cell_type": "code",
   "execution_count": 26,
   "metadata": {},
   "outputs": [
    {
     "data": {
      "image/png": "[encoded data removed]",
      "text/plain": [
       "<Figure size 432x288 with 2 Axes>"
      ]
     },
     "metadata": {
      "needs_background": "light"
     },
     "output_type": "display_data"
    },
    {
     "name": "stdout",
     "output_type": "stream",
     "text": [
      "Accuracy 0.75\n",
      "\n",
      "              precision    recall  f1-score   support\n",
      "\n",
      "           1       0.67      0.50      0.57         4\n",
      "           2       0.78      0.88      0.82         8\n",
      "\n",
      "    accuracy                           0.75        12\n",
      "   macro avg       0.72      0.69      0.70        12\n",
      "weighted avg       0.74      0.75      0.74        12\n",
      "\n"
     ]
    }
   ],
   "source": [
    "sgd_bin = fit_and_eval(\n",
    "    SGDClassifier(penalty='l1', loss='hinge', alpha=1e-3, random_state=0, max_iter=100),\n",
    "    X_train, x_val, Y_train_bin, y_val_bin\n",
    ")"
   ]
  },
  {
   "cell_type": "markdown",
   "metadata": {},
   "source": [
    "As we can see results for binary classification in this case turn out to be worse than for multiclassification so we'll abandon this path."
   ]
  },
  {
   "cell_type": "markdown",
   "metadata": {},
   "source": [
    "### Final algorithm\n",
    "\n",
    "We'll train the model again with the same configuration, but on all training data this time"
   ]
  },
  {
   "cell_type": "code",
   "execution_count": 27,
   "metadata": {},
   "outputs": [
    {
     "data": {
      "text/plain": [
       "SGDClassifier(alpha=0.001, max_iter=100, penalty='l1', random_state=0)"
      ]
     },
     "execution_count": 27,
     "metadata": {},
     "output_type": "execute_result"
    }
   ],
   "source": [
    "x, y = np.stack(os_train_df.tfidf_vectors), os_train_df.label.to_numpy()\n",
    "clf = SGDClassifier(penalty='l1', loss='hinge', alpha=1e-3, random_state=0, max_iter=100)\n",
    "clf.fit(x, y)"
   ]
  },
  {
   "cell_type": "markdown",
   "metadata": {},
   "source": [
    "Now we'll transform test data texts to vectors with the previously trained TF-IDF vectorizer and predict classes"
   ]
  },
  {
   "cell_type": "code",
   "execution_count": 28,
   "metadata": {},
   "outputs": [
    {
     "data": {
      "text/plain": [
       "2    38\n",
       "1     8\n",
       "3     2\n",
       "Name: prediction, dtype: int64"
      ]
     },
     "execution_count": 28,
     "metadata": {},
     "output_type": "execute_result"
    }
   ],
   "source": [
    "test_df['vectors'] = tfidf_vec.transform(test_df['clean_text']).todense().tolist()\n",
    "test_df['prediction'] = clf.predict(np.stack(test_df['vectors']))\n",
    "    \n",
    "test_df.prediction.value_counts()"
   ]
  },
  {
   "cell_type": "markdown",
   "metadata": {},
   "source": [
    "Finally let's save our results to file."
   ]
  },
  {
   "cell_type": "code",
   "execution_count": 29,
   "metadata": {},
   "outputs": [],
   "source": [
    "result_df = test_df[['doc_id', 'prediction']]\n",
    "result_df.to_csv(\"submission.csv\")"
   ]
  },
  {
   "cell_type": "markdown",
   "metadata": {},
   "source": [
    "### Extra mile"
   ]
  },
  {
   "cell_type": "code",
   "execution_count": 97,
   "metadata": {},
   "outputs": [],
   "source": [
    "from collections import Counter, defaultdict"
   ]
  },
  {
   "cell_type": "code",
   "execution_count": 98,
   "metadata": {},
   "outputs": [
    {
     "data": {
      "text/plain": [
       "array(['Brust', 'Darm', 'Endokrine malignome',\n",
       "       'Gallenblasen/gallengangkrebs', 'Gynäkologie', 'Harnblase', 'Haut',\n",
       "       'Hoden, penis', 'Hämatooncology', 'Kopf-hals', 'Leber', 'Lunge',\n",
       "       'Lymphom', 'Magen', 'Mamma carcinoma', 'Neuroonkologie', 'Niere',\n",
       "       'Pankreas', 'Prostata', 'Rare cancer', 'Sarkome', 'Speiseröhre',\n",
       "       'Urologische', 'Adenoid', 'Adrenal', 'Bauchspeicheldrüsenkrebs',\n",
       "       'Interdisziplinär', 'Knochentumoren', 'Mikroskopieren',\n",
       "       'Molekular', 'Oral', 'Prätherapeutische', 'Pädiatrische',\n",
       "       'Schwerpunkt', 'Stammzelltransplantation', 'Surgical'],\n",
       "      dtype=object)"
      ]
     },
     "execution_count": 98,
     "metadata": {},
     "output_type": "execute_result"
    }
   ],
   "source": [
    "kw2tt.tumor_type.unique()"
   ]
  },
  {
   "cell_type": "code",
   "execution_count": 99,
   "metadata": {},
   "outputs": [
    {
     "data": {
      "text/html": [
       "<div>\n",
       "<style scoped>\n",
       "    .dataframe tbody tr th:only-of-type {\n",
       "        vertical-align: middle;\n",
       "    }\n",
       "\n",
       "    .dataframe tbody tr th {\n",
       "        vertical-align: top;\n",
       "    }\n",
       "\n",
       "    .dataframe thead th {\n",
       "        text-align: right;\n",
       "    }\n",
       "</style>\n",
       "<table border=\"1\" class=\"dataframe\">\n",
       "  <thead>\n",
       "    <tr style=\"text-align: right;\">\n",
       "      <th></th>\n",
       "      <th>doc_id</th>\n",
       "      <th>label</th>\n",
       "      <th>clean_text</th>\n",
       "    </tr>\n",
       "  </thead>\n",
       "  <tbody>\n",
       "    <tr>\n",
       "      <th>1</th>\n",
       "      <td>3</td>\n",
       "      <td>3</td>\n",
       "      <td>onkologisches zentrum klinikum bayreuth aktuel...</td>\n",
       "    </tr>\n",
       "    <tr>\n",
       "      <th>4</th>\n",
       "      <td>6</td>\n",
       "      <td>3</td>\n",
       "      <td>zuweiser tumorkonferenzen tumorkonferenz gastr...</td>\n",
       "    </tr>\n",
       "    <tr>\n",
       "      <th>10</th>\n",
       "      <td>13</td>\n",
       "      <td>2</td>\n",
       "      <td>krebszentrum reutlingen zentrale einrichtung k...</td>\n",
       "    </tr>\n",
       "    <tr>\n",
       "      <th>11</th>\n",
       "      <td>14</td>\n",
       "      <td>2</td>\n",
       "      <td>leistungsspektrum sankt marienhospital buer gm...</td>\n",
       "    </tr>\n",
       "    <tr>\n",
       "      <th>12</th>\n",
       "      <td>17</td>\n",
       "      <td>2</td>\n",
       "      <td>minimalinvasive chirurgie sankt marienhospital...</td>\n",
       "    </tr>\n",
       "    <tr>\n",
       "      <th>...</th>\n",
       "      <td>...</td>\n",
       "      <td>...</td>\n",
       "      <td>...</td>\n",
       "    </tr>\n",
       "    <tr>\n",
       "      <th>42</th>\n",
       "      <td>127</td>\n",
       "      <td>2</td>\n",
       "      <td>vendor neutral archiving solutions vna siemens...</td>\n",
       "    </tr>\n",
       "    <tr>\n",
       "      <th>43</th>\n",
       "      <td>134</td>\n",
       "      <td>2</td>\n",
       "      <td>zweitmeinung â einschãtzung sinnvoll universit...</td>\n",
       "    </tr>\n",
       "    <tr>\n",
       "      <th>45</th>\n",
       "      <td>142</td>\n",
       "      <td>2</td>\n",
       "      <td>tumorboard lungenkrebszentrums mãglicherweise ...</td>\n",
       "    </tr>\n",
       "    <tr>\n",
       "      <th>46</th>\n",
       "      <td>143</td>\n",
       "      <td>2</td>\n",
       "      <td>oberarzt m w d hnoklinik a a notfall rettungsl...</td>\n",
       "    </tr>\n",
       "    <tr>\n",
       "      <th>47</th>\n",
       "      <td>147</td>\n",
       "      <td>2</td>\n",
       "      <td>klinik allgemeinchirurgie viszeralchirurgie ge...</td>\n",
       "    </tr>\n",
       "  </tbody>\n",
       "</table>\n",
       "<p>108 rows × 3 columns</p>\n",
       "</div>"
      ],
      "text/plain": [
       "    doc_id  label                                         clean_text\n",
       "1        3      3  onkologisches zentrum klinikum bayreuth aktuel...\n",
       "4        6      3  zuweiser tumorkonferenzen tumorkonferenz gastr...\n",
       "10      13      2  krebszentrum reutlingen zentrale einrichtung k...\n",
       "11      14      2  leistungsspektrum sankt marienhospital buer gm...\n",
       "12      17      2  minimalinvasive chirurgie sankt marienhospital...\n",
       "..     ...    ...                                                ...\n",
       "42     127      2  vendor neutral archiving solutions vna siemens...\n",
       "43     134      2  zweitmeinung â einschãtzung sinnvoll universit...\n",
       "45     142      2  tumorboard lungenkrebszentrums mãglicherweise ...\n",
       "46     143      2  oberarzt m w d hnoklinik a a notfall rettungsl...\n",
       "47     147      2  klinik allgemeinchirurgie viszeralchirurgie ge...\n",
       "\n",
       "[108 rows x 3 columns]"
      ]
     },
     "execution_count": 99,
     "metadata": {},
     "output_type": "execute_result"
    }
   ],
   "source": [
    "test_df.columns = [\n",
    "    \"label\" if col == \"prediction\" else col\n",
    "    for col in test_df.columns\n",
    "]\n",
    "\n",
    "full_df = pd.concat([\n",
    "    train_df[['doc_id', 'label', 'clean_text']],\n",
    "    test_df[['doc_id', 'label', 'clean_text']]\n",
    "])\n",
    "tb_df = full_df[full_df['label'].apply(lambda l: l in {2, 3})]\n",
    "tb_df"
   ]
  },
  {
   "cell_type": "code",
   "execution_count": 100,
   "metadata": {},
   "outputs": [],
   "source": [
    "tfidf_feature_names = tfidf_vec.get_feature_names()\n",
    "kw2tt_dict = dict(zip(kw2tt.keyword, kw2tt.tumor_type))"
   ]
  },
  {
   "cell_type": "code",
   "execution_count": 101,
   "metadata": {},
   "outputs": [],
   "source": [
    "def sort_coo(coo_matrix):\n",
    "    \"\"\"\n",
    "    \n",
    "    \"\"\"\n",
    "    tuples = zip(coo_matrix.col, coo_matrix.data)\n",
    "    return sorted(tuples, key=lambda x: (x[1], x[0]), reverse=True)\n",
    "\n",
    "def extract_tb_type(feature_names, sorted_items):\n",
    "    \"\"\"\n",
    "    \n",
    "    \"\"\"\n",
    "    global kw2tt_dict\n",
    "    \n",
    "    tt_scores = defaultdict(list)\n",
    "    for idx, score in sorted_items:\n",
    "        kw = feature_names[idx]\n",
    "        tumor_type = kw2tt_dict[kw]\n",
    "        \n",
    "        tt_scores[tumor_type].append(score)\n",
    "    \n",
    "    if not tt_scores:\n",
    "        return None\n",
    "    \n",
    "    tt_mean_scores = {\n",
    "        tt: np.mean(scores)\n",
    "        for tt, scores in tt_scores.items()\n",
    "    }\n",
    "    \n",
    "    tumor_type, _ = max(\n",
    "        tt_mean_scores.items(), \n",
    "        key=lambda x: x[1]\n",
    "    )\n",
    "    \n",
    "    return tumor_type\n",
    "\n",
    "def get_tumor_type(text):\n",
    "    \"\"\"\n",
    "    \n",
    "    \"\"\"\n",
    "    global tfidf_vec\n",
    "    global tfidf_feature_names\n",
    "    \n",
    "    vec = tfidf_vec.transform([text])\n",
    "    \n",
    "    sorted_items = sort_coo(vec.tocoo())\n",
    "    \n",
    "    tumor_type = extract_tb_type(\n",
    "        tfidf_feature_names, sorted_items\n",
    "    )\n",
    "    \n",
    "    return tumor_type"
   ]
  },
  {
   "cell_type": "code",
   "execution_count": 105,
   "metadata": {},
   "outputs": [
    {
     "data": {
      "text/plain": [
       "Darm                            22\n",
       "Schwerpunkt                     19\n",
       "Brust                           11\n",
       "Lunge                            9\n",
       "Magen                            7\n",
       "Interdisziplinär                 6\n",
       "Leber                            5\n",
       "Haut                             5\n",
       "Urologische                      4\n",
       "Endokrine malignome              3\n",
       "Mamma carcinoma                  3\n",
       "Surgical                         3\n",
       "Pädiatrische                     2\n",
       "Sarkome                          2\n",
       "Hämatooncology                   2\n",
       "Knochentumoren                   1\n",
       "Neuroonkologie                   1\n",
       "Gallenblasen/gallengangkrebs     1\n",
       "Name: tumor_type, dtype: int64"
      ]
     },
     "execution_count": 105,
     "metadata": {},
     "output_type": "execute_result"
    }
   ],
   "source": [
    "tb_df['tumor_type'] = tb_df['clean_text'].apply(get_tumor_type)\n",
    "tb_df.tumor_type.value_counts()"
   ]
  },
  {
   "cell_type": "code",
   "execution_count": 106,
   "metadata": {},
   "outputs": [],
   "source": [
    "weekdays = {'sonntag', 'montag', 'dienstag', 'mittwoch', 'donnerstag', 'freitag', 'samstag'}\n",
    "\n",
    "def detect_weekday(text):\n",
    "    global weekdays\n",
    "    \n",
    "    tokens = text.split()\n",
    "    found_weekdays = set(tokens).intersection(weekdays)\n",
    "    word_counts = Counter(tokens)\n",
    "    \n",
    "    weekday_counts = defaultdict(int)\n",
    "    for wd in found_weekdays:\n",
    "        weekday_counts[wd] += word_counts[wd]\n",
    "    \n",
    "    if not weekday_counts:\n",
    "        return None\n",
    "    \n",
    "    most_freq_wd, _ = max(weekday_counts.items(), key=lambda x: x[1])\n",
    "    \n",
    "    return most_freq_wd"
   ]
  },
  {
   "cell_type": "code",
   "execution_count": 107,
   "metadata": {},
   "outputs": [
    {
     "data": {
      "text/html": [
       "<div>\n",
       "<style scoped>\n",
       "    .dataframe tbody tr th:only-of-type {\n",
       "        vertical-align: middle;\n",
       "    }\n",
       "\n",
       "    .dataframe tbody tr th {\n",
       "        vertical-align: top;\n",
       "    }\n",
       "\n",
       "    .dataframe thead th {\n",
       "        text-align: right;\n",
       "    }\n",
       "</style>\n",
       "<table border=\"1\" class=\"dataframe\">\n",
       "  <thead>\n",
       "    <tr style=\"text-align: right;\">\n",
       "      <th></th>\n",
       "      <th>doc_id</th>\n",
       "      <th>label</th>\n",
       "      <th>clean_text</th>\n",
       "      <th>tumor_type</th>\n",
       "      <th>weekday</th>\n",
       "    </tr>\n",
       "  </thead>\n",
       "  <tbody>\n",
       "    <tr>\n",
       "      <th>1</th>\n",
       "      <td>3</td>\n",
       "      <td>3</td>\n",
       "      <td>onkologisches zentrum klinikum bayreuth aktuel...</td>\n",
       "      <td>Brust</td>\n",
       "      <td>donnerstag</td>\n",
       "    </tr>\n",
       "    <tr>\n",
       "      <th>4</th>\n",
       "      <td>6</td>\n",
       "      <td>3</td>\n",
       "      <td>zuweiser tumorkonferenzen tumorkonferenz gastr...</td>\n",
       "      <td>Magen</td>\n",
       "      <td>dienstag</td>\n",
       "    </tr>\n",
       "    <tr>\n",
       "      <th>10</th>\n",
       "      <td>13</td>\n",
       "      <td>2</td>\n",
       "      <td>krebszentrum reutlingen zentrale einrichtung k...</td>\n",
       "      <td>Interdisziplinär</td>\n",
       "      <td>None</td>\n",
       "    </tr>\n",
       "    <tr>\n",
       "      <th>11</th>\n",
       "      <td>14</td>\n",
       "      <td>2</td>\n",
       "      <td>leistungsspektrum sankt marienhospital buer gm...</td>\n",
       "      <td>Schwerpunkt</td>\n",
       "      <td>None</td>\n",
       "    </tr>\n",
       "    <tr>\n",
       "      <th>12</th>\n",
       "      <td>17</td>\n",
       "      <td>2</td>\n",
       "      <td>minimalinvasive chirurgie sankt marienhospital...</td>\n",
       "      <td>Schwerpunkt</td>\n",
       "      <td>None</td>\n",
       "    </tr>\n",
       "    <tr>\n",
       "      <th>...</th>\n",
       "      <td>...</td>\n",
       "      <td>...</td>\n",
       "      <td>...</td>\n",
       "      <td>...</td>\n",
       "      <td>...</td>\n",
       "    </tr>\n",
       "    <tr>\n",
       "      <th>42</th>\n",
       "      <td>127</td>\n",
       "      <td>2</td>\n",
       "      <td>vendor neutral archiving solutions vna siemens...</td>\n",
       "      <td>Hämatooncology</td>\n",
       "      <td>None</td>\n",
       "    </tr>\n",
       "    <tr>\n",
       "      <th>43</th>\n",
       "      <td>134</td>\n",
       "      <td>2</td>\n",
       "      <td>zweitmeinung â einschãtzung sinnvoll universit...</td>\n",
       "      <td>Urologische</td>\n",
       "      <td>None</td>\n",
       "    </tr>\n",
       "    <tr>\n",
       "      <th>45</th>\n",
       "      <td>142</td>\n",
       "      <td>2</td>\n",
       "      <td>tumorboard lungenkrebszentrums mãglicherweise ...</td>\n",
       "      <td>Lunge</td>\n",
       "      <td>mittwoch</td>\n",
       "    </tr>\n",
       "    <tr>\n",
       "      <th>46</th>\n",
       "      <td>143</td>\n",
       "      <td>2</td>\n",
       "      <td>oberarzt m w d hnoklinik a a notfall rettungsl...</td>\n",
       "      <td>Schwerpunkt</td>\n",
       "      <td>None</td>\n",
       "    </tr>\n",
       "    <tr>\n",
       "      <th>47</th>\n",
       "      <td>147</td>\n",
       "      <td>2</td>\n",
       "      <td>klinik allgemeinchirurgie viszeralchirurgie ge...</td>\n",
       "      <td>Surgical</td>\n",
       "      <td>mittwoch</td>\n",
       "    </tr>\n",
       "  </tbody>\n",
       "</table>\n",
       "<p>108 rows × 5 columns</p>\n",
       "</div>"
      ],
      "text/plain": [
       "    doc_id  label                                         clean_text  \\\n",
       "1        3      3  onkologisches zentrum klinikum bayreuth aktuel...   \n",
       "4        6      3  zuweiser tumorkonferenzen tumorkonferenz gastr...   \n",
       "10      13      2  krebszentrum reutlingen zentrale einrichtung k...   \n",
       "11      14      2  leistungsspektrum sankt marienhospital buer gm...   \n",
       "12      17      2  minimalinvasive chirurgie sankt marienhospital...   \n",
       "..     ...    ...                                                ...   \n",
       "42     127      2  vendor neutral archiving solutions vna siemens...   \n",
       "43     134      2  zweitmeinung â einschãtzung sinnvoll universit...   \n",
       "45     142      2  tumorboard lungenkrebszentrums mãglicherweise ...   \n",
       "46     143      2  oberarzt m w d hnoklinik a a notfall rettungsl...   \n",
       "47     147      2  klinik allgemeinchirurgie viszeralchirurgie ge...   \n",
       "\n",
       "          tumor_type     weekday  \n",
       "1              Brust  donnerstag  \n",
       "4              Magen    dienstag  \n",
       "10  Interdisziplinär        None  \n",
       "11       Schwerpunkt        None  \n",
       "12       Schwerpunkt        None  \n",
       "..               ...         ...  \n",
       "42    Hämatooncology        None  \n",
       "43       Urologische        None  \n",
       "45             Lunge    mittwoch  \n",
       "46       Schwerpunkt        None  \n",
       "47          Surgical    mittwoch  \n",
       "\n",
       "[108 rows x 5 columns]"
      ]
     },
     "execution_count": 107,
     "metadata": {},
     "output_type": "execute_result"
    }
   ],
   "source": [
    "tb_df['weekday'] = tb_df['clean_text'].apply(detect_weekday)\n",
    "tb_df"
   ]
  },
  {
   "cell_type": "code",
   "execution_count": 112,
   "metadata": {},
   "outputs": [
    {
     "data": {
      "text/plain": [
       "(28, 5)"
      ]
     },
     "execution_count": 112,
     "metadata": {},
     "output_type": "execute_result"
    }
   ],
   "source": [
    "tb_df[~tb_df.weekday.isna()].shape"
   ]
  },
  {
   "cell_type": "code",
   "execution_count": null,
   "metadata": {},
   "outputs": [],
   "source": []
  }
 ],
 "metadata": {
  "kernelspec": {
   "display_name": "Python 3",
   "language": "python",
   "name": "python3"
  },
  "language_info": {
   "codemirror_mode": {
    "name": "ipython",
    "version": 3
   },
   "file_extension": ".py",
   "mimetype": "text/x-python",
   "name": "python",
   "nbconvert_exporter": "python",
   "pygments_lexer": "ipython3",
   "version": "3.9.4"
  }
 },
 "nbformat": 4,
 "nbformat_minor": 2
}
