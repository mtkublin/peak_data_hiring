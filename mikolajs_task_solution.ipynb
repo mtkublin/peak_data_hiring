{
 "cells": [
  {
   "cell_type": "markdown",
   "metadata": {},
   "source": [
    "### First let's set up the project\n",
    "\n",
    "We'll be using pandas and numpy for data handling, beautifulsoup for html data extraction, spacy for text cleaning and word embeddings and sklearn for model training and evaluation.\n",
    "\n",
    "Python version used for the project is 3.9.4. Using versions prior to 3.9 will raise some exceptions, as past versions of Python do not support complex type annotations with inbuilt types, typing modules would need to be used to replace those."
   ]
  },
  {
   "cell_type": "code",
   "execution_count": 1,
   "metadata": {},
   "outputs": [],
   "source": [
    "# !pip install -r requirements.txt\n",
    "# !python -m spacy download de_core_news_sm"
   ]
  },
  {
   "cell_type": "code",
   "execution_count": 2,
   "metadata": {},
   "outputs": [],
   "source": [
    "from warnings import filterwarnings\n",
    "\n",
    "filterwarnings(\"ignore\")"
   ]
  },
  {
   "cell_type": "code",
   "execution_count": 3,
   "metadata": {},
   "outputs": [],
   "source": [
    "import os\n",
    "import re\n",
    "from copy import copy\n",
    "from pprint import pprint\n",
    "\n",
    "from bs4 import BeautifulSoup\n",
    "\n",
    "import pandas as pd\n",
    "import numpy as np\n",
    "\n",
    "import spacy\n",
    "\n",
    "from sklearn.model_selection import train_test_split\n",
    "from sklearn.metrics import classification_report, accuracy_score, plot_confusion_matrix\n",
    "from sklearn.linear_model import LogisticRegression, SGDClassifier\n",
    "from sklearn.svm import LinearSVC\n",
    "from sklearn.base import BaseEstimator\n",
    "from sklearn.feature_extraction.text import TfidfVectorizer\n",
    "\n",
    "from gensim.corpora import Dictionary\n",
    "from gensim.models import LdaMulticore\n",
    "\n",
    "import matplotlib.pyplot as plt"
   ]
  },
  {
   "cell_type": "markdown",
   "metadata": {},
   "source": [
    "### Next we'll extract texts from provided HTML files \n",
    "\n",
    "We'll decompose `style` and `script` tags as they are not our actual textual data and then extract all other texts from files for further processing."
   ]
  },
  {
   "cell_type": "code",
   "execution_count": 4,
   "metadata": {},
   "outputs": [
    {
     "data": {
      "text/plain": [
       "'\\n \\n \\n \\n \\n \\n \\n BauchspeicheldrÃ¼se | Klinik fÃ¼r Allgemein-, Viszeral- und Kinderchirurgie GÃ¶ttingen \\n \\n \\n \\n \\n \\n \\n \\n \\n \\n \\n \\n \\n \\n \\n Klinik fÃ¼r Allgemein-, Viszeral- und Kinderchirurgie \\n zur Hauptnavigation springen \\n zum Inhalt wechseln \\n \\n Aktuelles und Kontakt Kontakt \\n \\n \\n Logo der UniverstÃ¤tsmedizin GÃ¶ttingen \\n \\n \\n \\n \\n \\n \\n \\n \\n \\n Navigation Ã¶ffnen oder schliessen \\n \\n \\n \\n \\n \\n \\n Hauptnavigation Subnavigation Ã¶ffnen oder schliessen Medizinische Versorgung Poliklinik Sonographie SchilddrÃ¼se SpeiserÃ¶hre und Magen Darm BauchspeicheldrÃ¼se CED Leber und Galle Hernien Koloproktologie Adipositaschirurgie Kinderchirurgie Sarkomchirurgie HIPEC Roboterchirurgie InterdisziplinÃ¤re Zentren Subnavigation Ã¶ffnen oder schliessen Forschung Klinische Studien Tumorepigenetik AG Conradi AG Gaedcke AG Grade AG Krause AG Sperling AG Sprenger AG Wegwitz Promotion Publikationen Subnavigation Ã¶ffnen oder schliessen Lehre Module Blockpraktikum Famulaturen/PJ Subnavigation Ã¶ffnen oder schliessen Ã\\x9cber uns Mitarbeiter Stationen StationÃ¤re Aufnahme Geschichte der Klinik \\n \\n \\n \\n \\n \\n \\n \\n \\n \\n \\n \\n Navigationspfad Medizinische Versorgung BauchspeicheldrÃ¼se \\n \\n \\n \\n \\n \\n \\n \\n \\n \\n Pankreaschirurgie Die operative Therapie der BauchspeicheldrÃ¼se beziehungsweise ihrer VerÃ¤nderungen ist ein besonderer Schwerpunkt unserer Klinik. HierfÃ¼r wurden wir von der  Deutschen Gesellschaft fÃ¼r Allgemein- und Viszeralchirurgie (DGAV)  als Kompetenzzentrum zertifiziert. Das bedeutet, dass sÃ¤mtliche Diagnosen und VerlÃ¤ufe unserer Patienten erfasst und regelmÃ¤Ã\\x9fig kritisch evaluiert werden. Wir arbeiten in einem interdisziplinÃ¤ren Team bestehend aus Gastroenterologen, Radiologen, Pathologen, AnÃ¤sthesisten oder auch Radioonkologen zusammen. Die Therapie vor beziehungsweise nach Entfernung des Tumors legen wir im Rahmen des interdisziplinÃ¤ren Tumorboards des  GÃ¶ttinger CCCs  fest. Lesen Sie hier, welche Erkrankungen es gibt und wie wir sie versorgen: Abbildung der regulÃ¤ren Anatomie der BauchspeicheldrÃ¼se. Der Kopf wird von ZwÃ¶lffingerdarm eingebettet. Zu unserem Spektrum gehÃ¶ren vor allem Neubildungen der BauchspeicheldrÃ¼se oder des Gallengangs, der durch das Organ lÃ¤uft und sich hÃ¤ufig die MÃ¼ndung in den ZwÃ¶lffingerdarm mit dem AusfÃ¼hrungsgang der BauchspeicheldrÃ¼se teilt. Anatomisch unterteilt man die BauchspeicheldrÃ¼se in Kopf, KÃ¶rper und Schwanz. Die meisten VerÃ¤nderungen sind bÃ¶sartige Tumoren des BauchspeicheldrÃ¼senkopfes â\\x80\\x93 sie treten entweder als Zufallsbefund auf, im Rahmen einer Gelbsucht (Ikterus) oder durch AbklÃ¤rung von RÃ¼ckenschmerzen beziehungsweise diffusen Beschwerden im Bereich des Bauches. Sofern die Tumoren auf das Organ beschrÃ¤nkt sind â\\x80\\x93 also keine Lungen- oder Lebermetastasen vorliegen beziehungsweise das Bauchfell nicht befallen ist â\\x80\\x93 kÃ¶nnen wir den BauchspeicheldrÃ¼senkopf operativ entfernen. Dabei entfernen wir den ZwÃ¶lffingerdarm, den unteren Anteil des Gallengangs und die lokalen Lymphknoten mit. Ist der Tumor bereits in die angrenzende groÃ\\x9fe Vene, die Pfortader eingebrochen, die das Blut aus dem Darm zur Leber transportiert, kÃ¶nnen wir diese in der Regel auch teilweise mitentfernen. Auch wenn die Arterie beteiligt ist, kann in je nach Fall eine Operation sinnvoll sein. Es gibt FÃ¤lle, in denen es nicht mÃ¶glich ist, den Tumor operativ zu entfernen. Dann kÃ¶nnen wir, nachdem wir Fernmetastasen ausgeschlossen haben, im Rahmen klinischer Studien (CONKO-007) zunÃ¤chst eine Chemotherapie und/oder eine Bestrahlung durchfÃ¼hren. Auch auf diese Weise ist es mÃ¶glich, den Tumor zu entfernen. In diesen schwierigen Situationen ist unser Team besonders erfahren. Ihre Ansprechpartner Univ.-Prof. Dr. Michael Ghadimi Direktor Email:  Diese E-Mail-Adresse ist vor Spambots geschÃ¼tzt! Zur Anzeige muss JavaScript eingeschaltet sein! Univ.-Prof. Dr. Jochen Gaedcke Leitender Oberarzt Email:  Diese E-Mail-Adresse ist vor Spambots geschÃ¼tzt! Zur Anzeige muss JavaScript eingeschaltet sein! Pankreassprechstunde: Nach Vereinbarung HauptgebÃ¤ude UBFT, Ebene 3,Fahrstuhl B2 (Leitstelle B2) Terminvereinbarung unter 0551/39-66148   Drucken \\n \\n \\n \\n \\n \\n \\n Informationen zu unseren Internetangeboten \\n \\n \\n \\n Sitemap Klinik fÃ¼r Allgemein-, Viszeral- und Kinderchirurgie Medizinische Versorgung Poliklinik Sonographie SchilddrÃ¼se SpeiserÃ¶hre und Magen Darm BauchspeicheldrÃ¼se CED Leber und Galle Hernien Koloproktologie Adipositaschirurgie Kinderchirurgie Sarkomchirurgie HIPEC Roboterchirurgie InterdisziplinÃ¤re Zentren Forschung Klinische Studien Tumorepigenetik AG Conradi AG Gaedcke AG Grade AG Krause AG Sperling AG Sprenger AG Wegwitz Promotion Publikationen Lehre Module Blockpraktikum Famulaturen/PJ Ã\\x9cber uns Mitarbeiter Stationen StationÃ¤re Aufnahme Geschichte der Klinik \\n \\n \\n \\n \\n \\n \\n \\n Informationen zu dieser Website Sitemap Datenschutz Impressum \\n \\n \\n \\n \\n \\n \\n Copyright \\n © 2019 Klinik fÃ¼r Allgemein-, Viszeral- und Kinderchirurgie \\n \\n \\n \\n \\n \\n \\n \\n \\n \\n \\n \\n \\n \\n \\n \\n'"
      ]
     },
     "execution_count": 4,
     "metadata": {},
     "output_type": "execute_result"
    }
   ],
   "source": [
    "def extract_html_text(filepath: str) -> str:\n",
    "    \"\"\"\n",
    "    Extracts test data from HTML file on provided path.\n",
    "    \"\"\"\n",
    "    # Open the file and load it to BeautifulSoup\n",
    "    with open(filepath, encoding='ISO-8859-1') as f:\n",
    "        soup = BeautifulSoup(f.read(), \"html\")\n",
    "    \n",
    "    # Decompose script and style tags\n",
    "    tags_to_decompose = [\n",
    "        tag \n",
    "        for tag_name in (\"style\", \"script\")\n",
    "        for tag in soup.find_all(tag_name)\n",
    "    ]\n",
    "    for tag in tags_to_decompose:\n",
    "        tag.decompose()\n",
    "    \n",
    "    # Return only texts from the file\n",
    "    return soup.get_text(\" \")\n",
    "\n",
    "# Test the function on a single file\n",
    "extract_html_text(os.path.join(\"htmls\", \"0.html\"))"
   ]
  },
  {
   "cell_type": "markdown",
   "metadata": {},
   "source": [
    "Let's define a function that will extract data from all files and return it as a dictionary with document ids as keys and texts as values."
   ]
  },
  {
   "cell_type": "code",
   "execution_count": 5,
   "metadata": {},
   "outputs": [],
   "source": [
    "def extract_all_texts(directory) -> dict[int, str]:\n",
    "    \"\"\"\n",
    "    Extracts texts from all HTML files in provided directory\n",
    "    \"\"\"\n",
    "    return {\n",
    "        int(file.replace(\".html\", \"\")): extract_html_text(os.path.join(directory, file))\n",
    "        for file in os.listdir(\"htmls\")\n",
    "    }\n",
    "\n",
    "all_texts = extract_all_texts(\"htmls\")"
   ]
  },
  {
   "cell_type": "markdown",
   "metadata": {},
   "source": [
    "### Now let's load our training data\n",
    "\n",
    "We'll load the data to pandas DataFrame to make further processing easier"
   ]
  },
  {
   "cell_type": "code",
   "execution_count": 6,
   "metadata": {},
   "outputs": [
    {
     "data": {
      "text/html": [
       "<div>\n",
       "<style scoped>\n",
       "    .dataframe tbody tr th:only-of-type {\n",
       "        vertical-align: middle;\n",
       "    }\n",
       "\n",
       "    .dataframe tbody tr th {\n",
       "        vertical-align: top;\n",
       "    }\n",
       "\n",
       "    .dataframe thead th {\n",
       "        text-align: right;\n",
       "    }\n",
       "</style>\n",
       "<table border=\"1\" class=\"dataframe\">\n",
       "  <thead>\n",
       "    <tr style=\"text-align: right;\">\n",
       "      <th></th>\n",
       "      <th>url</th>\n",
       "      <th>doc_id</th>\n",
       "      <th>label</th>\n",
       "    </tr>\n",
       "  </thead>\n",
       "  <tbody>\n",
       "    <tr>\n",
       "      <th>0</th>\n",
       "      <td>http://elbe-elster-klinikum.de/fachbereiche/ch...</td>\n",
       "      <td>1</td>\n",
       "      <td>1</td>\n",
       "    </tr>\n",
       "    <tr>\n",
       "      <th>1</th>\n",
       "      <td>http://klinikum-bayreuth.de/einrichtungen/zent...</td>\n",
       "      <td>3</td>\n",
       "      <td>3</td>\n",
       "    </tr>\n",
       "    <tr>\n",
       "      <th>2</th>\n",
       "      <td>http://klinikum-braunschweig.de/info.php/?id_o...</td>\n",
       "      <td>4</td>\n",
       "      <td>1</td>\n",
       "    </tr>\n",
       "    <tr>\n",
       "      <th>3</th>\n",
       "      <td>http://klinikum-braunschweig.de/info.php/?id_o...</td>\n",
       "      <td>5</td>\n",
       "      <td>1</td>\n",
       "    </tr>\n",
       "    <tr>\n",
       "      <th>4</th>\n",
       "      <td>http://klinikum-braunschweig.de/zuweiser/tumor...</td>\n",
       "      <td>6</td>\n",
       "      <td>3</td>\n",
       "    </tr>\n",
       "    <tr>\n",
       "      <th>...</th>\n",
       "      <td>...</td>\n",
       "      <td>...</td>\n",
       "      <td>...</td>\n",
       "    </tr>\n",
       "    <tr>\n",
       "      <th>95</th>\n",
       "      <td>http://www.unicross.uni-freiburg.de/thema/unifm/</td>\n",
       "      <td>140</td>\n",
       "      <td>1</td>\n",
       "    </tr>\n",
       "    <tr>\n",
       "      <th>96</th>\n",
       "      <td>http://www.uniklinik-duesseldorf.de/patienten-...</td>\n",
       "      <td>141</td>\n",
       "      <td>1</td>\n",
       "    </tr>\n",
       "    <tr>\n",
       "      <th>97</th>\n",
       "      <td>http://www.vivantes.de/fuer-sie-vor-ort/klinik...</td>\n",
       "      <td>144</td>\n",
       "      <td>2</td>\n",
       "    </tr>\n",
       "    <tr>\n",
       "      <th>98</th>\n",
       "      <td>http://www.vivantes.de/fuer-sie-vor-ort/klinik...</td>\n",
       "      <td>145</td>\n",
       "      <td>2</td>\n",
       "    </tr>\n",
       "    <tr>\n",
       "      <th>99</th>\n",
       "      <td>http://www.walburga-krankenhaus.de/wk/artikel/...</td>\n",
       "      <td>146</td>\n",
       "      <td>1</td>\n",
       "    </tr>\n",
       "  </tbody>\n",
       "</table>\n",
       "<p>100 rows × 3 columns</p>\n",
       "</div>"
      ],
      "text/plain": [
       "                                                  url  doc_id  label\n",
       "0   http://elbe-elster-klinikum.de/fachbereiche/ch...       1      1\n",
       "1   http://klinikum-bayreuth.de/einrichtungen/zent...       3      3\n",
       "2   http://klinikum-braunschweig.de/info.php/?id_o...       4      1\n",
       "3   http://klinikum-braunschweig.de/info.php/?id_o...       5      1\n",
       "4   http://klinikum-braunschweig.de/zuweiser/tumor...       6      3\n",
       "..                                                ...     ...    ...\n",
       "95   http://www.unicross.uni-freiburg.de/thema/unifm/     140      1\n",
       "96  http://www.uniklinik-duesseldorf.de/patienten-...     141      1\n",
       "97  http://www.vivantes.de/fuer-sie-vor-ort/klinik...     144      2\n",
       "98  http://www.vivantes.de/fuer-sie-vor-ort/klinik...     145      2\n",
       "99  http://www.walburga-krankenhaus.de/wk/artikel/...     146      1\n",
       "\n",
       "[100 rows x 3 columns]"
      ]
     },
     "execution_count": 6,
     "metadata": {},
     "output_type": "execute_result"
    }
   ],
   "source": [
    "train_df = pd.read_csv(\"train.csv\")\n",
    "test_df = pd.read_csv(\"test.csv\")\n",
    "train_df"
   ]
  },
  {
   "cell_type": "markdown",
   "metadata": {},
   "source": [
    "Let's remove `url` column as it's not needed and load texts to another column"
   ]
  },
  {
   "cell_type": "code",
   "execution_count": 7,
   "metadata": {},
   "outputs": [
    {
     "data": {
      "text/html": [
       "<div>\n",
       "<style scoped>\n",
       "    .dataframe tbody tr th:only-of-type {\n",
       "        vertical-align: middle;\n",
       "    }\n",
       "\n",
       "    .dataframe tbody tr th {\n",
       "        vertical-align: top;\n",
       "    }\n",
       "\n",
       "    .dataframe thead th {\n",
       "        text-align: right;\n",
       "    }\n",
       "</style>\n",
       "<table border=\"1\" class=\"dataframe\">\n",
       "  <thead>\n",
       "    <tr style=\"text-align: right;\">\n",
       "      <th></th>\n",
       "      <th>doc_id</th>\n",
       "      <th>label</th>\n",
       "      <th>text</th>\n",
       "    </tr>\n",
       "  </thead>\n",
       "  <tbody>\n",
       "    <tr>\n",
       "      <th>0</th>\n",
       "      <td>1</td>\n",
       "      <td>1</td>\n",
       "      <td>\\n \\n \\n \\n \\n \\n \\n \\n Elbe-Elster Klinikum -...</td>\n",
       "    </tr>\n",
       "    <tr>\n",
       "      <th>1</th>\n",
       "      <td>3</td>\n",
       "      <td>3</td>\n",
       "      <td>\\n \\n \\n \\n \\n \\n \\n \\n Onkologisches Zentrum ...</td>\n",
       "    </tr>\n",
       "    <tr>\n",
       "      <th>2</th>\n",
       "      <td>4</td>\n",
       "      <td>1</td>\n",
       "      <td>\\n \\n \\n Zentrum - SozialpÃ¤diatrisches Zentru...</td>\n",
       "    </tr>\n",
       "    <tr>\n",
       "      <th>3</th>\n",
       "      <td>5</td>\n",
       "      <td>1</td>\n",
       "      <td>\\n \\n \\n Leistung - Spezielle UnterstÃ¼tzung b...</td>\n",
       "    </tr>\n",
       "    <tr>\n",
       "      <th>4</th>\n",
       "      <td>6</td>\n",
       "      <td>3</td>\n",
       "      <td>\\n \\n \\n Zuweiser - Tumorkonferenzen - Tumorko...</td>\n",
       "    </tr>\n",
       "    <tr>\n",
       "      <th>...</th>\n",
       "      <td>...</td>\n",
       "      <td>...</td>\n",
       "      <td>...</td>\n",
       "    </tr>\n",
       "    <tr>\n",
       "      <th>95</th>\n",
       "      <td>140</td>\n",
       "      <td>1</td>\n",
       "      <td>\\n \\n \\n \\n \\n \\n \\n \\n \\n \\n \\n \\n uniFM | un...</td>\n",
       "    </tr>\n",
       "    <tr>\n",
       "      <th>96</th>\n",
       "      <td>141</td>\n",
       "      <td>1</td>\n",
       "      <td>\\n \\n \\n \\n \\n \\n \\n \\n \\n \\n \\n \\n \\n \\n \\n \\...</td>\n",
       "    </tr>\n",
       "    <tr>\n",
       "      <th>97</th>\n",
       "      <td>144</td>\n",
       "      <td>2</td>\n",
       "      <td>\\n \\n \\n \\n \\n \\n \\n \\n \\n \\n \\n \\n \\n FÃ¼r Ã...</td>\n",
       "    </tr>\n",
       "    <tr>\n",
       "      <th>98</th>\n",
       "      <td>145</td>\n",
       "      <td>2</td>\n",
       "      <td>\\n \\n \\n \\n \\n \\n \\n \\n \\n \\n \\n \\n \\n \\n \\n I...</td>\n",
       "    </tr>\n",
       "    <tr>\n",
       "      <th>99</th>\n",
       "      <td>146</td>\n",
       "      <td>1</td>\n",
       "      <td>\\n \\n \\n \\n Versorgung von Krebspatienten stÃ¤...</td>\n",
       "    </tr>\n",
       "  </tbody>\n",
       "</table>\n",
       "<p>100 rows × 3 columns</p>\n",
       "</div>"
      ],
      "text/plain": [
       "    doc_id  label                                               text\n",
       "0        1      1  \\n \\n \\n \\n \\n \\n \\n \\n Elbe-Elster Klinikum -...\n",
       "1        3      3  \\n \\n \\n \\n \\n \\n \\n \\n Onkologisches Zentrum ...\n",
       "2        4      1  \\n \\n \\n Zentrum - SozialpÃ¤diatrisches Zentru...\n",
       "3        5      1  \\n \\n \\n Leistung - Spezielle UnterstÃ¼tzung b...\n",
       "4        6      3  \\n \\n \\n Zuweiser - Tumorkonferenzen - Tumorko...\n",
       "..     ...    ...                                                ...\n",
       "95     140      1  \\n \\n \\n \\n \\n \\n \\n \\n \\n \\n \\n \\n uniFM | un...\n",
       "96     141      1  \\n \\n \\n \\n \\n \\n \\n \\n \\n \\n \\n \\n \\n \\n \\n \\...\n",
       "97     144      2  \\n \\n \\n \\n \\n \\n \\n \\n \\n \\n \\n \\n \\n FÃ¼r Ã...\n",
       "98     145      2  \\n \\n \\n \\n \\n \\n \\n \\n \\n \\n \\n \\n \\n \\n \\n I...\n",
       "99     146      1  \\n \\n \\n \\n Versorgung von Krebspatienten stÃ¤...\n",
       "\n",
       "[100 rows x 3 columns]"
      ]
     },
     "execution_count": 7,
     "metadata": {},
     "output_type": "execute_result"
    }
   ],
   "source": [
    "for df_ in (train_df, test_df):\n",
    "    del df_['url']\n",
    "    df_['text'] = df_['doc_id'].apply(lambda x: all_texts[x])\n",
    "train_df"
   ]
  },
  {
   "cell_type": "markdown",
   "metadata": {},
   "source": [
    "Let's also check how much data we have for each label"
   ]
  },
  {
   "cell_type": "code",
   "execution_count": 8,
   "metadata": {},
   "outputs": [
    {
     "data": {
      "text/plain": [
       "2    59\n",
       "1    32\n",
       "3     9\n",
       "Name: label, dtype: int64"
      ]
     },
     "execution_count": 8,
     "metadata": {},
     "output_type": "execute_result"
    }
   ],
   "source": [
    "train_df.label.value_counts()"
   ]
  },
  {
   "cell_type": "markdown",
   "metadata": {},
   "source": [
    "As we can see there's a huge imbalance in our data distribution. Groups proportions are roughly 7:4:1. \n",
    "\n",
    "We'll try to tackle this issue with a couple of approaches:\n",
    "- oversamling of the least populated group\n",
    "- using topic modelling\n",
    "- grouping labels 2 and 3 together to perform binary classification\n",
    "\n",
    "But first let's clean our data."
   ]
  },
  {
   "cell_type": "markdown",
   "metadata": {},
   "source": [
    "### Now we'll be cleaning and tokenizing our data\n",
    "\n",
    "For that purpose we'll use spacy and it's pre-trained German language model. We'll be using the smallest one available, larger ones could provide better performence, however they're quite big and slow."
   ]
  },
  {
   "cell_type": "code",
   "execution_count": 9,
   "metadata": {},
   "outputs": [],
   "source": [
    "nlp = spacy.load(\"de_core_news_sm\")"
   ]
  },
  {
   "cell_type": "markdown",
   "metadata": {},
   "source": [
    "Let's define our tokenizing and cleaning functions"
   ]
  },
  {
   "cell_type": "code",
   "execution_count": 10,
   "metadata": {},
   "outputs": [],
   "source": [
    "PATTERNS = [\n",
    "    (re.compile('\\s+'), \"\"),\n",
    "    (re.compile('<[^>]*>'), \"\"),\n",
    "    (re.compile('[\\W]+'), \"\"),\n",
    "    (re.compile('\\d+'), \"#num\"),\n",
    "]\n",
    "\n",
    "def preprocessor(token: str) -> str:\n",
    "    \"\"\"\n",
    "    Removes punctuation from text using regular expressions\n",
    "    and replaces all numbers with a #num token\n",
    "    \"\"\"\n",
    "    global PATTERNS\n",
    "    \n",
    "    text = token.lower()\n",
    "    for ptrn, sub in PATTERNS:\n",
    "        text = ptrn.sub(sub, text)\n",
    "    \n",
    "    return text\n",
    "\n",
    "def check_token(token: spacy.tokens.Token) -> bool:\n",
    "    \"\"\"\n",
    "    Checks token against a few conditions:\n",
    "    - checks if token is a stopword\n",
    "    - checks if token's length is longer than 2 characters\n",
    "    \"\"\"\n",
    "    return all([\n",
    "        not token.is_stop,\n",
    "        len(token.lemma_) >= 3\n",
    "    ])\n",
    "\n",
    "def tokenize(text: str) -> list[str]:\n",
    "    \"\"\"\n",
    "    Extracts a list of word lemmas from spacy's sentence object.\n",
    "    Stopwords are filtered out as well as tokens representing only\n",
    "    whitespace or punctuation.\n",
    "    \"\"\"\n",
    "    global nlp\n",
    "    \n",
    "    # Convert text to spacy Doc object\n",
    "    doc = nlp(text)\n",
    "    \n",
    "    # Tokenize text, lemmatize and preprocess tokens and \n",
    "    # filter out stopwords\n",
    "    lemmas = [\n",
    "        preprocessor(token.lemma_)\n",
    "        for token in doc\n",
    "        if check_token(token)\n",
    "    ]\n",
    "    # Return only non-empty tokens\n",
    "    return [lem for lem in lemmas if lem]"
   ]
  },
  {
   "cell_type": "markdown",
   "metadata": {},
   "source": [
    "And now apply them to our texts"
   ]
  },
  {
   "cell_type": "code",
   "execution_count": 11,
   "metadata": {},
   "outputs": [
    {
     "data": {
      "text/html": [
       "<div>\n",
       "<style scoped>\n",
       "    .dataframe tbody tr th:only-of-type {\n",
       "        vertical-align: middle;\n",
       "    }\n",
       "\n",
       "    .dataframe tbody tr th {\n",
       "        vertical-align: top;\n",
       "    }\n",
       "\n",
       "    .dataframe thead th {\n",
       "        text-align: right;\n",
       "    }\n",
       "</style>\n",
       "<table border=\"1\" class=\"dataframe\">\n",
       "  <thead>\n",
       "    <tr style=\"text-align: right;\">\n",
       "      <th></th>\n",
       "      <th>doc_id</th>\n",
       "      <th>label</th>\n",
       "      <th>text</th>\n",
       "      <th>tokens</th>\n",
       "      <th>clean_text</th>\n",
       "    </tr>\n",
       "  </thead>\n",
       "  <tbody>\n",
       "    <tr>\n",
       "      <th>0</th>\n",
       "      <td>1</td>\n",
       "      <td>1</td>\n",
       "      <td>\\n \\n \\n \\n \\n \\n \\n \\n Elbe-Elster Klinikum -...</td>\n",
       "      <td>[elbeelster, klinikum, chirurgie, finsterwalde...</td>\n",
       "      <td>elbeelster klinikum chirurgie finsterwalde suc...</td>\n",
       "    </tr>\n",
       "    <tr>\n",
       "      <th>1</th>\n",
       "      <td>3</td>\n",
       "      <td>3</td>\n",
       "      <td>\\n \\n \\n \\n \\n \\n \\n \\n Onkologisches Zentrum ...</td>\n",
       "      <td>[onkologisches, zentrum, klinikum, bayreuth, a...</td>\n",
       "      <td>onkologisches zentrum klinikum bayreuth aktuel...</td>\n",
       "    </tr>\n",
       "    <tr>\n",
       "      <th>2</th>\n",
       "      <td>4</td>\n",
       "      <td>1</td>\n",
       "      <td>\\n \\n \\n Zentrum - SozialpÃ¤diatrisches Zentru...</td>\n",
       "      <td>[zentrum, sozialpãdiatrisches, zentrum, stãdti...</td>\n",
       "      <td>zentrum sozialpãdiatrisches zentrum stãdtische...</td>\n",
       "    </tr>\n",
       "    <tr>\n",
       "      <th>3</th>\n",
       "      <td>5</td>\n",
       "      <td>1</td>\n",
       "      <td>\\n \\n \\n Leistung - Spezielle UnterstÃ¼tzung b...</td>\n",
       "      <td>[leistung, speziell, unterstã¼tzung, anmeldung...</td>\n",
       "      <td>leistung speziell unterstã¼tzung anmeldung geb...</td>\n",
       "    </tr>\n",
       "    <tr>\n",
       "      <th>4</th>\n",
       "      <td>6</td>\n",
       "      <td>3</td>\n",
       "      <td>\\n \\n \\n Zuweiser - Tumorkonferenzen - Tumorko...</td>\n",
       "      <td>[zuweiser, tumorkonferenzen, tumorkonferenz, g...</td>\n",
       "      <td>zuweiser tumorkonferenzen tumorkonferenz gastr...</td>\n",
       "    </tr>\n",
       "    <tr>\n",
       "      <th>...</th>\n",
       "      <td>...</td>\n",
       "      <td>...</td>\n",
       "      <td>...</td>\n",
       "      <td>...</td>\n",
       "      <td>...</td>\n",
       "    </tr>\n",
       "    <tr>\n",
       "      <th>95</th>\n",
       "      <td>140</td>\n",
       "      <td>1</td>\n",
       "      <td>\\n \\n \\n \\n \\n \\n \\n \\n \\n \\n \\n \\n uniFM | un...</td>\n",
       "      <td>[unifm, unicross, news, and, magazin, theme, h...</td>\n",
       "      <td>unifm unicross news and magazin theme home kon...</td>\n",
       "    </tr>\n",
       "    <tr>\n",
       "      <th>96</th>\n",
       "      <td>141</td>\n",
       "      <td>1</td>\n",
       "      <td>\\n \\n \\n \\n \\n \\n \\n \\n \\n \\n \\n \\n \\n \\n \\n \\...</td>\n",
       "      <td>[interdisziplinãre, neurovaskulãre, konferenz,...</td>\n",
       "      <td>interdisziplinãre neurovaskulãre konferenz ukd...</td>\n",
       "    </tr>\n",
       "    <tr>\n",
       "      <th>97</th>\n",
       "      <td>144</td>\n",
       "      <td>2</td>\n",
       "      <td>\\n \\n \\n \\n \\n \\n \\n \\n \\n \\n \\n \\n \\n FÃ¼r Ã...</td>\n",
       "      <td>[fã¼r, ãrzte, vivantes, javascript, scheinen, ...</td>\n",
       "      <td>fã¼r ãrzte vivantes javascript scheinen browse...</td>\n",
       "    </tr>\n",
       "    <tr>\n",
       "      <th>98</th>\n",
       "      <td>145</td>\n",
       "      <td>2</td>\n",
       "      <td>\\n \\n \\n \\n \\n \\n \\n \\n \\n \\n \\n \\n \\n \\n \\n I...</td>\n",
       "      <td>[innere, medizin, â, hãmatologie, onkologie, p...</td>\n",
       "      <td>innere medizin â hãmatologie onkologie palliat...</td>\n",
       "    </tr>\n",
       "    <tr>\n",
       "      <th>99</th>\n",
       "      <td>146</td>\n",
       "      <td>1</td>\n",
       "      <td>\\n \\n \\n \\n Versorgung von Krebspatienten stÃ¤...</td>\n",
       "      <td>[versorgung, krebspatienten, stãrken, st, walb...</td>\n",
       "      <td>versorgung krebspatienten stãrken st walburgak...</td>\n",
       "    </tr>\n",
       "  </tbody>\n",
       "</table>\n",
       "<p>100 rows × 5 columns</p>\n",
       "</div>"
      ],
      "text/plain": [
       "    doc_id  label                                               text  \\\n",
       "0        1      1  \\n \\n \\n \\n \\n \\n \\n \\n Elbe-Elster Klinikum -...   \n",
       "1        3      3  \\n \\n \\n \\n \\n \\n \\n \\n Onkologisches Zentrum ...   \n",
       "2        4      1  \\n \\n \\n Zentrum - SozialpÃ¤diatrisches Zentru...   \n",
       "3        5      1  \\n \\n \\n Leistung - Spezielle UnterstÃ¼tzung b...   \n",
       "4        6      3  \\n \\n \\n Zuweiser - Tumorkonferenzen - Tumorko...   \n",
       "..     ...    ...                                                ...   \n",
       "95     140      1  \\n \\n \\n \\n \\n \\n \\n \\n \\n \\n \\n \\n uniFM | un...   \n",
       "96     141      1  \\n \\n \\n \\n \\n \\n \\n \\n \\n \\n \\n \\n \\n \\n \\n \\...   \n",
       "97     144      2  \\n \\n \\n \\n \\n \\n \\n \\n \\n \\n \\n \\n \\n FÃ¼r Ã...   \n",
       "98     145      2  \\n \\n \\n \\n \\n \\n \\n \\n \\n \\n \\n \\n \\n \\n \\n I...   \n",
       "99     146      1  \\n \\n \\n \\n Versorgung von Krebspatienten stÃ¤...   \n",
       "\n",
       "                                               tokens  \\\n",
       "0   [elbeelster, klinikum, chirurgie, finsterwalde...   \n",
       "1   [onkologisches, zentrum, klinikum, bayreuth, a...   \n",
       "2   [zentrum, sozialpãdiatrisches, zentrum, stãdti...   \n",
       "3   [leistung, speziell, unterstã¼tzung, anmeldung...   \n",
       "4   [zuweiser, tumorkonferenzen, tumorkonferenz, g...   \n",
       "..                                                ...   \n",
       "95  [unifm, unicross, news, and, magazin, theme, h...   \n",
       "96  [interdisziplinãre, neurovaskulãre, konferenz,...   \n",
       "97  [fã¼r, ãrzte, vivantes, javascript, scheinen, ...   \n",
       "98  [innere, medizin, â, hãmatologie, onkologie, p...   \n",
       "99  [versorgung, krebspatienten, stãrken, st, walb...   \n",
       "\n",
       "                                           clean_text  \n",
       "0   elbeelster klinikum chirurgie finsterwalde suc...  \n",
       "1   onkologisches zentrum klinikum bayreuth aktuel...  \n",
       "2   zentrum sozialpãdiatrisches zentrum stãdtische...  \n",
       "3   leistung speziell unterstã¼tzung anmeldung geb...  \n",
       "4   zuweiser tumorkonferenzen tumorkonferenz gastr...  \n",
       "..                                                ...  \n",
       "95  unifm unicross news and magazin theme home kon...  \n",
       "96  interdisziplinãre neurovaskulãre konferenz ukd...  \n",
       "97  fã¼r ãrzte vivantes javascript scheinen browse...  \n",
       "98  innere medizin â hãmatologie onkologie palliat...  \n",
       "99  versorgung krebspatienten stãrken st walburgak...  \n",
       "\n",
       "[100 rows x 5 columns]"
      ]
     },
     "execution_count": 11,
     "metadata": {},
     "output_type": "execute_result"
    }
   ],
   "source": [
    "for df_ in (train_df, test_df):\n",
    "    df_['tokens'] = df_['text'].apply(tokenize)\n",
    "    df_['clean_text'] = df_['tokens'].apply(lambda toks: \" \".join(toks))\n",
    "    \n",
    "train_df"
   ]
  },
  {
   "cell_type": "markdown",
   "metadata": {},
   "source": [
    "Now we'll oversample our data so that there are 20 samples for label 3"
   ]
  },
  {
   "cell_type": "code",
   "execution_count": 12,
   "metadata": {},
   "outputs": [
    {
     "data": {
      "text/plain": [
       "2    59\n",
       "1    32\n",
       "3    20\n",
       "Name: label, dtype: int64"
      ]
     },
     "execution_count": 12,
     "metadata": {},
     "output_type": "execute_result"
    }
   ],
   "source": [
    "class_3_oversample = train_df[train_df.label == 3].sample(20, replace=True, random_state=0)\n",
    "os_train_df = pd.concat([train_df[train_df.label != 3], class_3_oversample])\n",
    "os_train_df.label.value_counts()"
   ]
  },
  {
   "cell_type": "markdown",
   "metadata": {},
   "source": [
    "### Model training\n",
    "\n",
    "This is time to finally try out our data on an actual model. We'll start with a simple LogisticRegression. But first we'll define model evaluating functions."
   ]
  },
  {
   "cell_type": "code",
   "execution_count": 13,
   "metadata": {},
   "outputs": [],
   "source": [
    "def eval_model(\n",
    "    clf: BaseEstimator, \n",
    "    x_test: np.ndarray, \n",
    "    y_test: np.ndarray\n",
    ") -> None:\n",
    "    \"\"\"\n",
    "    Calculates and displays evaluation metrics \n",
    "    for passed classifier and data\n",
    "    \"\"\"\n",
    "    y_pred = clf.predict(x_test)\n",
    "    \n",
    "    acc = accuracy_score(y_test, y_pred)\n",
    "    report = classification_report(y_test, y_pred)\n",
    "    \n",
    "    plot_confusion_matrix(clf, x_test, y_test)\n",
    "    plt.show()\n",
    "    \n",
    "    print(f'Accuracy {acc}\\n')\n",
    "    print(report)\n",
    "    \n",
    "    \n",
    "def fit_and_eval(\n",
    "    clf: BaseEstimator, \n",
    "    X_trn: np.ndarray, \n",
    "    x_test: np.ndarray, \n",
    "    Y_trn: np.ndarray, \n",
    "    y_test: np.ndarray\n",
    ") -> BaseEstimator:\n",
    "    \"\"\"\n",
    "    Trains and evaluates passed classifier\n",
    "    with passed data\n",
    "    \"\"\"\n",
    "    clf.fit(X_trn, Y_trn)\n",
    "    \n",
    "    eval_model(clf, x_test, y_test)\n",
    "    \n",
    "    return clf"
   ]
  },
  {
   "cell_type": "markdown",
   "metadata": {},
   "source": [
    "### Spacy vectors\n",
    "\n",
    "Now we'll transform text data into vectors. First we'll try to use spacy's pre-defined word embeddings from the language model we're using. Then we'll split the data for training and evalutation."
   ]
  },
  {
   "cell_type": "code",
   "execution_count": 14,
   "metadata": {},
   "outputs": [],
   "source": [
    "x = np.stack(os_train_df['clean_text'].apply(lambda txt: nlp(txt).vector))\n",
    "y = os_train_df.label.to_numpy()\n",
    "\n",
    "X_train, x_val, Y_train, y_val = train_test_split(x, y, train_size=0.9, shuffle=True, random_state=1, stratify=y)"
   ]
  },
  {
   "cell_type": "markdown",
   "metadata": {},
   "source": [
    "And train the model."
   ]
  },
  {
   "cell_type": "code",
   "execution_count": 15,
   "metadata": {},
   "outputs": [
    {
     "data": {
      "image/png": "[encoded data removed]",
      "text/plain": [
       "<Figure size 432x288 with 2 Axes>"
      ]
     },
     "metadata": {
      "needs_background": "light"
     },
     "output_type": "display_data"
    },
    {
     "name": "stdout",
     "output_type": "stream",
     "text": [
      "Accuracy 0.6666666666666666\n",
      "\n",
      "              precision    recall  f1-score   support\n",
      "\n",
      "           1       0.50      1.00      0.67         4\n",
      "           2       1.00      0.33      0.50         6\n",
      "           3       1.00      1.00      1.00         2\n",
      "\n",
      "    accuracy                           0.67        12\n",
      "   macro avg       0.83      0.78      0.72        12\n",
      "weighted avg       0.83      0.67      0.64        12\n",
      "\n"
     ]
    }
   ],
   "source": [
    "lgr = fit_and_eval(\n",
    "    LogisticRegression(n_jobs=10, C=1, class_weight=\"balanced\"),\n",
    "    X_train, x_val, Y_train, y_val\n",
    ")"
   ]
  },
  {
   "cell_type": "markdown",
   "metadata": {},
   "source": [
    "Results aren't outstanding. Classifier mostly mistakes pages of class 2 for class 1, which is understandable as they're pages with lower level of certainty regarding being about tumorboards.\n",
    "\n",
    "### Topic modelling\n",
    "\n",
    "Next we'll try to use topic modelling. We'll use Latent Dirichlet Allocation for this task, and then try to use each document's topic probabilities distribution as our vector representation."
   ]
  },
  {
   "cell_type": "code",
   "execution_count": 16,
   "metadata": {},
   "outputs": [],
   "source": [
    "NUM_TOPICS = 100\n",
    "\n",
    "dictionary = Dictionary(train_df.tokens)\n",
    "bow_corpus = [dictionary.doc2bow(doc) for doc in train_df.tokens]\n",
    "\n",
    "lda = LdaMulticore(bow_corpus, \n",
    "                   num_topics = NUM_TOPICS,\n",
    "                   id2word = dictionary,\n",
    "                   passes = 10, \n",
    "                   workers = 2)"
   ]
  },
  {
   "cell_type": "code",
   "execution_count": 17,
   "metadata": {},
   "outputs": [],
   "source": [
    "def topics2vec(tokens: list[str]) -> np.ndarray:\n",
    "    \"\"\"\n",
    "    Converts token list to a topic probability vector\n",
    "    \"\"\"\n",
    "    global dictionary\n",
    "    global lda\n",
    "    \n",
    "    bow = dictionary.doc2bow(tokens)\n",
    "    doc_topics = lda[bow]\n",
    "    \n",
    "    vec = np.zeros(NUM_TOPICS)\n",
    "    for idx, prob in doc_topics:\n",
    "        vec[idx] = prob\n",
    "        \n",
    "    return vec"
   ]
  },
  {
   "cell_type": "markdown",
   "metadata": {},
   "source": [
    "Now let's convert our tokens to training data, split it and try to train a model with it."
   ]
  },
  {
   "cell_type": "code",
   "execution_count": 18,
   "metadata": {},
   "outputs": [],
   "source": [
    "x = np.stack(os_train_df['tokens'].apply(topics2vec))\n",
    "y = os_train_df.label.to_numpy()\n",
    "\n",
    "X_train, x_val, Y_train, y_val = train_test_split(x, y, train_size=0.9, shuffle=True, random_state=1, stratify=y)"
   ]
  },
  {
   "cell_type": "code",
   "execution_count": 19,
   "metadata": {},
   "outputs": [
    {
     "data": {
      "image/png": "[encoded data removed]",
      "text/plain": [
       "<Figure size 432x288 with 2 Axes>"
      ]
     },
     "metadata": {
      "needs_background": "light"
     },
     "output_type": "display_data"
    },
    {
     "name": "stdout",
     "output_type": "stream",
     "text": [
      "Accuracy 0.6666666666666666\n",
      "\n",
      "              precision    recall  f1-score   support\n",
      "\n",
      "           1       0.60      0.75      0.67         4\n",
      "           2       1.00      0.50      0.67         6\n",
      "           3       0.50      1.00      0.67         2\n",
      "\n",
      "    accuracy                           0.67        12\n",
      "   macro avg       0.70      0.75      0.67        12\n",
      "weighted avg       0.78      0.67      0.67        12\n",
      "\n"
     ]
    }
   ],
   "source": [
    "lgr = fit_and_eval(\n",
    "    LogisticRegression(n_jobs=10, C=1, class_weight=\"balanced\"),\n",
    "    X_train, x_val, Y_train, y_val\n",
    ")"
   ]
  },
  {
   "cell_type": "markdown",
   "metadata": {},
   "source": [
    "Results are similar to previous approach, however the model more often predicts label 3. This could be leveraged if we wanted to use a model ensemble.\n",
    "\n",
    "### TF-IDF\n",
    "\n",
    "Now we'll try to use word vectors retrieved by using TF-IDF and compare the results. We'll pass provided tumorboard keywords as vectorizer's vocabulary."
   ]
  },
  {
   "cell_type": "code",
   "execution_count": 20,
   "metadata": {},
   "outputs": [],
   "source": [
    "tfidf_vectorizer = TfidfVectorizer()\n",
    "vectors = tfidf_vectorizer.fit([*train_df.clean_text, *test_df.clean_text])"
   ]
  },
  {
   "cell_type": "markdown",
   "metadata": {},
   "source": [
    "Vectorizing with TF-IDF is much faster than computing average text vectors with spacy. Let's check how it works out."
   ]
  },
  {
   "cell_type": "code",
   "execution_count": 21,
   "metadata": {},
   "outputs": [],
   "source": [
    "x = np.stack(tfidf_vectorizer.transform(os_train_df.clean_text).todense().tolist())\n",
    "y = os_train_df.label.to_numpy()\n",
    "\n",
    "X_train, x_val, Y_train, y_val = train_test_split(x, y, train_size=0.9, shuffle=True, random_state=1, stratify=y)"
   ]
  },
  {
   "cell_type": "code",
   "execution_count": 22,
   "metadata": {},
   "outputs": [
    {
     "data": {
      "image/png": "[encoded data removed]",
      "text/plain": [
       "<Figure size 432x288 with 2 Axes>"
      ]
     },
     "metadata": {
      "needs_background": "light"
     },
     "output_type": "display_data"
    },
    {
     "name": "stdout",
     "output_type": "stream",
     "text": [
      "Accuracy 0.8333333333333334\n",
      "\n",
      "              precision    recall  f1-score   support\n",
      "\n",
      "           1       0.67      1.00      0.80         4\n",
      "           2       1.00      0.67      0.80         6\n",
      "           3       1.00      1.00      1.00         2\n",
      "\n",
      "    accuracy                           0.83        12\n",
      "   macro avg       0.89      0.89      0.87        12\n",
      "weighted avg       0.89      0.83      0.83        12\n",
      "\n"
     ]
    }
   ],
   "source": [
    "lgr = fit_and_eval(\n",
    "    LogisticRegression(n_jobs=10, C=1, class_weight=\"balanced\"),\n",
    "    X_train, x_val, Y_train, y_val\n",
    ")"
   ]
  },
  {
   "cell_type": "markdown",
   "metadata": {},
   "source": [
    "TF-IDF vectors gave us better results than spacy's word embeddings. Because of this and their faster generation time we'll stick to them. Maybe using larger language model could improve word embeddings performance, however due to reasons I mentioned before we won't be using them.\n",
    "\n",
    "Let's try out some other models for this task. First - support vector machine model."
   ]
  },
  {
   "cell_type": "code",
   "execution_count": 23,
   "metadata": {},
   "outputs": [
    {
     "data": {
      "image/png": "[encoded data removed]",
      "text/plain": [
       "<Figure size 432x288 with 2 Axes>"
      ]
     },
     "metadata": {
      "needs_background": "light"
     },
     "output_type": "display_data"
    },
    {
     "name": "stdout",
     "output_type": "stream",
     "text": [
      "Accuracy 0.6666666666666666\n",
      "\n",
      "              precision    recall  f1-score   support\n",
      "\n",
      "           1       0.50      0.50      0.50         4\n",
      "           2       0.71      0.83      0.77         6\n",
      "           3       1.00      0.50      0.67         2\n",
      "\n",
      "    accuracy                           0.67        12\n",
      "   macro avg       0.74      0.61      0.65        12\n",
      "weighted avg       0.69      0.67      0.66        12\n",
      "\n"
     ]
    }
   ],
   "source": [
    "svc = fit_and_eval(\n",
    "    LinearSVC(penalty='l2', loss='hinge', dual=True, random_state=0, max_iter=100),\n",
    "    X_train, x_val, Y_train, y_val\n",
    ")"
   ]
  },
  {
   "cell_type": "markdown",
   "metadata": {},
   "source": [
    "As we can see the results are worse than with LogisticRegression.\n",
    "\n",
    "Now let's try out a Linear Support Vector Machine with l1 regularization."
   ]
  },
  {
   "cell_type": "code",
   "execution_count": 24,
   "metadata": {},
   "outputs": [
    {
     "data": {
      "image/png": "[encoded data removed]",
      "text/plain": [
       "<Figure size 432x288 with 2 Axes>"
      ]
     },
     "metadata": {
      "needs_background": "light"
     },
     "output_type": "display_data"
    },
    {
     "name": "stdout",
     "output_type": "stream",
     "text": [
      "Accuracy 0.9166666666666666\n",
      "\n",
      "              precision    recall  f1-score   support\n",
      "\n",
      "           1       0.80      1.00      0.89         4\n",
      "           2       1.00      0.83      0.91         6\n",
      "           3       1.00      1.00      1.00         2\n",
      "\n",
      "    accuracy                           0.92        12\n",
      "   macro avg       0.93      0.94      0.93        12\n",
      "weighted avg       0.93      0.92      0.92        12\n",
      "\n"
     ]
    }
   ],
   "source": [
    "sgd = fit_and_eval(\n",
    "    SGDClassifier(penalty='l1', loss='hinge', alpha=1e-3, random_state=0, max_iter=100),\n",
    "    X_train, x_val, Y_train, y_val\n",
    ")"
   ]
  },
  {
   "cell_type": "markdown",
   "metadata": {},
   "source": [
    "SGD gave us the best performance from all the ones tried, so we'll stick to this model."
   ]
  },
  {
   "cell_type": "markdown",
   "metadata": {},
   "source": [
    "### Binary approach\n",
    "\n",
    "Another approach we can try is to convert labels to binary. As labels 2 and 3 mean similar things but with different level of certainity we can try to group them together. With this approach however we'd need a way to differentiate between those two classes afterwards. We could use prediction probability for this task."
   ]
  },
  {
   "cell_type": "code",
   "execution_count": 25,
   "metadata": {},
   "outputs": [],
   "source": [
    "Y_train_bin = np.array([2 if l == 3 else l for l in Y_train])\n",
    "y_val_bin = np.array([2 if l == 3 else l for l in y_val])"
   ]
  },
  {
   "cell_type": "code",
   "execution_count": 26,
   "metadata": {},
   "outputs": [
    {
     "data": {
      "image/png": "[encoded data removed]",
      "text/plain": [
       "<Figure size 432x288 with 2 Axes>"
      ]
     },
     "metadata": {
      "needs_background": "light"
     },
     "output_type": "display_data"
    },
    {
     "name": "stdout",
     "output_type": "stream",
     "text": [
      "Accuracy 0.75\n",
      "\n",
      "              precision    recall  f1-score   support\n",
      "\n",
      "           1       0.67      0.50      0.57         4\n",
      "           2       0.78      0.88      0.82         8\n",
      "\n",
      "    accuracy                           0.75        12\n",
      "   macro avg       0.72      0.69      0.70        12\n",
      "weighted avg       0.74      0.75      0.74        12\n",
      "\n"
     ]
    }
   ],
   "source": [
    "sgd_bin = fit_and_eval(\n",
    "    SGDClassifier(penalty='l1', loss='hinge', alpha=1e-3, random_state=0, max_iter=100),\n",
    "    X_train, x_val, Y_train_bin, y_val_bin\n",
    ")"
   ]
  },
  {
   "cell_type": "markdown",
   "metadata": {},
   "source": [
    "As we can see results for binary classification in this case turn out to be worse than for multiclassification so we'll abandon this path."
   ]
  },
  {
   "cell_type": "markdown",
   "metadata": {},
   "source": [
    "### Final algorithm\n",
    "\n",
    "We'll use the SGDClassifier with the same configuration as before and TF-IDF vectors as this was the combination that gave us the best results, but we'll use all training data this time.\n",
    "\n",
    "No need to redefine training data, as TF-IDF vectors where the last ones generated. We'll just use `x` and `y` variables."
   ]
  },
  {
   "cell_type": "code",
   "execution_count": 27,
   "metadata": {},
   "outputs": [
    {
     "data": {
      "text/plain": [
       "SGDClassifier(alpha=0.001, max_iter=100, penalty='l1', random_state=0)"
      ]
     },
     "execution_count": 27,
     "metadata": {},
     "output_type": "execute_result"
    }
   ],
   "source": [
    "clf = SGDClassifier(penalty='l1', loss='hinge', alpha=1e-3, random_state=0, max_iter=100)\n",
    "clf.fit(x, y)"
   ]
  },
  {
   "cell_type": "markdown",
   "metadata": {},
   "source": [
    "Now we'll transform test data texts to vectors with the previously trained TF-IDF vectorizer and predict classes"
   ]
  },
  {
   "cell_type": "code",
   "execution_count": 28,
   "metadata": {},
   "outputs": [
    {
     "data": {
      "text/plain": [
       "2    39\n",
       "1     7\n",
       "3     2\n",
       "Name: prediction, dtype: int64"
      ]
     },
     "execution_count": 28,
     "metadata": {},
     "output_type": "execute_result"
    }
   ],
   "source": [
    "test_df['vectors'] = tfidf_vectorizer.transform(test_df['clean_text']).todense().tolist()\n",
    "test_df['prediction'] = clf.predict(np.stack(test_df['vectors']))\n",
    "    \n",
    "test_df.prediction.value_counts()"
   ]
  },
  {
   "cell_type": "markdown",
   "metadata": {},
   "source": [
    "Distribution of test predictions is very imbalanced which worries me a little. The group size order is similar to group sizes from the training data, however group 2 proportion to others is almost twice larger.\n",
    "\n",
    "Finally let's save our results to file."
   ]
  },
  {
   "cell_type": "code",
   "execution_count": 29,
   "metadata": {},
   "outputs": [],
   "source": [
    "result_df = test_df[['doc_id', 'prediction']]\n",
    "result_df.to_csv(\"submission.csv\")"
   ]
  },
  {
   "cell_type": "markdown",
   "metadata": {},
   "source": [
    "# Extra mile\n",
    "\n",
    "We'll try to tackle this task by using LDA again, this time for topic modelling based only on keywords related to specific tumor types. Then we'll try to identify their schedule by detecting words corresponding to it.\n",
    "\n",
    "First we'll make needed imports."
   ]
  },
  {
   "cell_type": "code",
   "execution_count": 53,
   "metadata": {},
   "outputs": [],
   "source": [
    "from collections import defaultdict, Counter\n",
    "from functools import partial"
   ]
  },
  {
   "cell_type": "markdown",
   "metadata": {},
   "source": [
    "Now let's load our keyword data and take a look at all the unique tumor types provided."
   ]
  },
  {
   "cell_type": "code",
   "execution_count": 42,
   "metadata": {},
   "outputs": [
    {
     "data": {
      "text/plain": [
       "array(['Brust', 'Darm', 'Endokrine malignome',\n",
       "       'Gallenblasen/gallengangkrebs', 'Gynäkologie', 'Harnblase', 'Haut',\n",
       "       'Hoden, penis', 'Hämatooncology', 'Kopf-hals', 'Leber', 'Lunge',\n",
       "       'Lymphom', 'Magen', 'Mamma carcinoma', 'Neuroonkologie', 'Niere',\n",
       "       'Pankreas', 'Prostata', 'Rare cancer', 'Sarkome', 'Speiseröhre',\n",
       "       'Urologische', 'Adenoid', 'Adrenal', 'Bauchspeicheldrüsenkrebs',\n",
       "       'Interdisziplinär', 'Knochentumoren', 'Mikroskopieren',\n",
       "       'Molekular', 'Oral', 'Prätherapeutische', 'Pädiatrische',\n",
       "       'Schwerpunkt', 'Stammzelltransplantation', 'Surgical'],\n",
       "      dtype=object)"
      ]
     },
     "execution_count": 42,
     "metadata": {},
     "output_type": "execute_result"
    }
   ],
   "source": [
    "kw2tt = pd.read_csv(\"keyword2tumor_type.csv\")\n",
    "kw2tt_dict = dict(zip(kw2tt.keyword, kw2tt.tumor_type))\n",
    "kw2tt.tumor_type.unique()"
   ]
  },
  {
   "cell_type": "markdown",
   "metadata": {},
   "source": [
    "There's quite a lot of them, which might make identifying 3 distinct groups challenging.\n",
    "\n",
    "We'll assume that predictions from the previous step are somewhat correct and use them together with training data to model our topics. We'll also filter out texts from group 1, as they are supposed to not be mentioning tumorboards at all."
   ]
  },
  {
   "cell_type": "code",
   "execution_count": 43,
   "metadata": {},
   "outputs": [
    {
     "data": {
      "text/html": [
       "<div>\n",
       "<style scoped>\n",
       "    .dataframe tbody tr th:only-of-type {\n",
       "        vertical-align: middle;\n",
       "    }\n",
       "\n",
       "    .dataframe tbody tr th {\n",
       "        vertical-align: top;\n",
       "    }\n",
       "\n",
       "    .dataframe thead th {\n",
       "        text-align: right;\n",
       "    }\n",
       "</style>\n",
       "<table border=\"1\" class=\"dataframe\">\n",
       "  <thead>\n",
       "    <tr style=\"text-align: right;\">\n",
       "      <th></th>\n",
       "      <th>doc_id</th>\n",
       "      <th>label</th>\n",
       "      <th>clean_text</th>\n",
       "    </tr>\n",
       "  </thead>\n",
       "  <tbody>\n",
       "    <tr>\n",
       "      <th>1</th>\n",
       "      <td>3</td>\n",
       "      <td>3</td>\n",
       "      <td>onkologisches zentrum klinikum bayreuth aktuel...</td>\n",
       "    </tr>\n",
       "    <tr>\n",
       "      <th>4</th>\n",
       "      <td>6</td>\n",
       "      <td>3</td>\n",
       "      <td>zuweiser tumorkonferenzen tumorkonferenz gastr...</td>\n",
       "    </tr>\n",
       "    <tr>\n",
       "      <th>10</th>\n",
       "      <td>13</td>\n",
       "      <td>2</td>\n",
       "      <td>krebszentrum reutlingen zentrale einrichtung k...</td>\n",
       "    </tr>\n",
       "    <tr>\n",
       "      <th>11</th>\n",
       "      <td>14</td>\n",
       "      <td>2</td>\n",
       "      <td>leistungsspektrum sankt marienhospital buer gm...</td>\n",
       "    </tr>\n",
       "    <tr>\n",
       "      <th>12</th>\n",
       "      <td>17</td>\n",
       "      <td>2</td>\n",
       "      <td>minimalinvasive chirurgie sankt marienhospital...</td>\n",
       "    </tr>\n",
       "    <tr>\n",
       "      <th>...</th>\n",
       "      <td>...</td>\n",
       "      <td>...</td>\n",
       "      <td>...</td>\n",
       "    </tr>\n",
       "    <tr>\n",
       "      <th>42</th>\n",
       "      <td>127</td>\n",
       "      <td>2</td>\n",
       "      <td>vendor neutral archiving solutions vna siemens...</td>\n",
       "    </tr>\n",
       "    <tr>\n",
       "      <th>43</th>\n",
       "      <td>134</td>\n",
       "      <td>2</td>\n",
       "      <td>zweitmeinung â einschãtzung sinnvoll universit...</td>\n",
       "    </tr>\n",
       "    <tr>\n",
       "      <th>44</th>\n",
       "      <td>135</td>\n",
       "      <td>2</td>\n",
       "      <td>ukb universitätsklinikum bonn medizinisch faku...</td>\n",
       "    </tr>\n",
       "    <tr>\n",
       "      <th>45</th>\n",
       "      <td>142</td>\n",
       "      <td>2</td>\n",
       "      <td>tumorboard lungenkrebszentrums mãglicherweise ...</td>\n",
       "    </tr>\n",
       "    <tr>\n",
       "      <th>46</th>\n",
       "      <td>143</td>\n",
       "      <td>2</td>\n",
       "      <td>oberarzt fã¼r hnoklinik notfall #num rettungsl...</td>\n",
       "    </tr>\n",
       "  </tbody>\n",
       "</table>\n",
       "<p>109 rows × 3 columns</p>\n",
       "</div>"
      ],
      "text/plain": [
       "    doc_id  label                                         clean_text\n",
       "1        3      3  onkologisches zentrum klinikum bayreuth aktuel...\n",
       "4        6      3  zuweiser tumorkonferenzen tumorkonferenz gastr...\n",
       "10      13      2  krebszentrum reutlingen zentrale einrichtung k...\n",
       "11      14      2  leistungsspektrum sankt marienhospital buer gm...\n",
       "12      17      2  minimalinvasive chirurgie sankt marienhospital...\n",
       "..     ...    ...                                                ...\n",
       "42     127      2  vendor neutral archiving solutions vna siemens...\n",
       "43     134      2  zweitmeinung â einschãtzung sinnvoll universit...\n",
       "44     135      2  ukb universitätsklinikum bonn medizinisch faku...\n",
       "45     142      2  tumorboard lungenkrebszentrums mãglicherweise ...\n",
       "46     143      2  oberarzt fã¼r hnoklinik notfall #num rettungsl...\n",
       "\n",
       "[109 rows x 3 columns]"
      ]
     },
     "execution_count": 43,
     "metadata": {},
     "output_type": "execute_result"
    }
   ],
   "source": [
    "test_df.columns = [\n",
    "    \"label\" if col == \"prediction\" else col\n",
    "    for col in test_df.columns\n",
    "]\n",
    "\n",
    "full_df = pd.concat([\n",
    "    train_df[['doc_id', 'label', 'clean_text']],\n",
    "    test_df[['doc_id', 'label', 'clean_text']]\n",
    "])\n",
    "tb_df = full_df[full_df['label'].apply(lambda l: l in {2, 3})]\n",
    "tb_df"
   ]
  },
  {
   "cell_type": "markdown",
   "metadata": {},
   "source": [
    "### Tumor type classification\n",
    "\n",
    "Now let's extract necessary keywords from our texts."
   ]
  },
  {
   "cell_type": "code",
   "execution_count": 44,
   "metadata": {},
   "outputs": [
    {
     "data": {
      "text/html": [
       "<div>\n",
       "<style scoped>\n",
       "    .dataframe tbody tr th:only-of-type {\n",
       "        vertical-align: middle;\n",
       "    }\n",
       "\n",
       "    .dataframe tbody tr th {\n",
       "        vertical-align: top;\n",
       "    }\n",
       "\n",
       "    .dataframe thead th {\n",
       "        text-align: right;\n",
       "    }\n",
       "</style>\n",
       "<table border=\"1\" class=\"dataframe\">\n",
       "  <thead>\n",
       "    <tr style=\"text-align: right;\">\n",
       "      <th></th>\n",
       "      <th>doc_id</th>\n",
       "      <th>label</th>\n",
       "      <th>clean_text</th>\n",
       "      <th>keywords</th>\n",
       "    </tr>\n",
       "  </thead>\n",
       "  <tbody>\n",
       "    <tr>\n",
       "      <th>1</th>\n",
       "      <td>3</td>\n",
       "      <td>3</td>\n",
       "      <td>onkologisches zentrum klinikum bayreuth aktuel...</td>\n",
       "      <td>[viszeralchirurgie, krebszentrum, gastroentero...</td>\n",
       "    </tr>\n",
       "    <tr>\n",
       "      <th>4</th>\n",
       "      <td>6</td>\n",
       "      <td>3</td>\n",
       "      <td>zuweiser tumorkonferenzen tumorkonferenz gastr...</td>\n",
       "      <td>[viszeralchirurgie, gastrointestinaltrakt, gas...</td>\n",
       "    </tr>\n",
       "    <tr>\n",
       "      <th>10</th>\n",
       "      <td>13</td>\n",
       "      <td>2</td>\n",
       "      <td>krebszentrum reutlingen zentrale einrichtung k...</td>\n",
       "      <td>[krebszentrums, brustzentrum, krebszentrum]</td>\n",
       "    </tr>\n",
       "    <tr>\n",
       "      <th>11</th>\n",
       "      <td>14</td>\n",
       "      <td>2</td>\n",
       "      <td>leistungsspektrum sankt marienhospital buer gm...</td>\n",
       "      <td>[allgemeine, viszeralchirurgie, radiologisch, ...</td>\n",
       "    </tr>\n",
       "    <tr>\n",
       "      <th>12</th>\n",
       "      <td>17</td>\n",
       "      <td>2</td>\n",
       "      <td>minimalinvasive chirurgie sankt marienhospital...</td>\n",
       "      <td>[allgemeine, viszeralchirurgie, radiologisch, ...</td>\n",
       "    </tr>\n",
       "    <tr>\n",
       "      <th>...</th>\n",
       "      <td>...</td>\n",
       "      <td>...</td>\n",
       "      <td>...</td>\n",
       "      <td>...</td>\n",
       "    </tr>\n",
       "    <tr>\n",
       "      <th>42</th>\n",
       "      <td>127</td>\n",
       "      <td>2</td>\n",
       "      <td>vendor neutral archiving solutions vna siemens...</td>\n",
       "      <td>[hämatologie, urologie, mammographie]</td>\n",
       "    </tr>\n",
       "    <tr>\n",
       "      <th>43</th>\n",
       "      <td>134</td>\n",
       "      <td>2</td>\n",
       "      <td>zweitmeinung â einschãtzung sinnvoll universit...</td>\n",
       "      <td>[allgemeine, urologische]</td>\n",
       "    </tr>\n",
       "    <tr>\n",
       "      <th>44</th>\n",
       "      <td>135</td>\n",
       "      <td>2</td>\n",
       "      <td>ukb universitätsklinikum bonn medizinisch faku...</td>\n",
       "      <td>[interdisziplinär, radiologisch, lungenkrebs, ...</td>\n",
       "    </tr>\n",
       "    <tr>\n",
       "      <th>45</th>\n",
       "      <td>142</td>\n",
       "      <td>2</td>\n",
       "      <td>tumorboard lungenkrebszentrums mãglicherweise ...</td>\n",
       "      <td>[lungenkrebszentrum]</td>\n",
       "    </tr>\n",
       "    <tr>\n",
       "      <th>46</th>\n",
       "      <td>143</td>\n",
       "      <td>2</td>\n",
       "      <td>oberarzt fã¼r hnoklinik notfall #num rettungsl...</td>\n",
       "      <td>[allgemeine, radiologisch, darmkrebszentrum, k...</td>\n",
       "    </tr>\n",
       "  </tbody>\n",
       "</table>\n",
       "<p>109 rows × 4 columns</p>\n",
       "</div>"
      ],
      "text/plain": [
       "    doc_id  label                                         clean_text  \\\n",
       "1        3      3  onkologisches zentrum klinikum bayreuth aktuel...   \n",
       "4        6      3  zuweiser tumorkonferenzen tumorkonferenz gastr...   \n",
       "10      13      2  krebszentrum reutlingen zentrale einrichtung k...   \n",
       "11      14      2  leistungsspektrum sankt marienhospital buer gm...   \n",
       "12      17      2  minimalinvasive chirurgie sankt marienhospital...   \n",
       "..     ...    ...                                                ...   \n",
       "42     127      2  vendor neutral archiving solutions vna siemens...   \n",
       "43     134      2  zweitmeinung â einschãtzung sinnvoll universit...   \n",
       "44     135      2  ukb universitätsklinikum bonn medizinisch faku...   \n",
       "45     142      2  tumorboard lungenkrebszentrums mãglicherweise ...   \n",
       "46     143      2  oberarzt fã¼r hnoklinik notfall #num rettungsl...   \n",
       "\n",
       "                                             keywords  \n",
       "1   [viszeralchirurgie, krebszentrum, gastroentero...  \n",
       "4   [viszeralchirurgie, gastrointestinaltrakt, gas...  \n",
       "10        [krebszentrums, brustzentrum, krebszentrum]  \n",
       "11  [allgemeine, viszeralchirurgie, radiologisch, ...  \n",
       "12  [allgemeine, viszeralchirurgie, radiologisch, ...  \n",
       "..                                                ...  \n",
       "42              [hämatologie, urologie, mammographie]  \n",
       "43                          [allgemeine, urologische]  \n",
       "44  [interdisziplinär, radiologisch, lungenkrebs, ...  \n",
       "45                               [lungenkrebszentrum]  \n",
       "46  [allgemeine, radiologisch, darmkrebszentrum, k...  \n",
       "\n",
       "[109 rows x 4 columns]"
      ]
     },
     "execution_count": 44,
     "metadata": {},
     "output_type": "execute_result"
    }
   ],
   "source": [
    "def get_keywords(text: str) -> list[str]:\n",
    "    \"\"\"\n",
    "    Compares text words to our keyword set\n",
    "    \"\"\"\n",
    "    global kw2tt\n",
    "    \n",
    "    keywords = (\n",
    "        set(text.split())\n",
    "        .intersection(set(kw2tt.keyword))\n",
    "    )\n",
    "    \n",
    "    return list(keywords)\n",
    "\n",
    "tb_df['keywords'] = tb_df['clean_text'].apply(get_keywords)\n",
    "tb_df"
   ]
  },
  {
   "cell_type": "markdown",
   "metadata": {},
   "source": [
    "Next we'll perform LDA only on the keywords related to tumor types, as this approach will make topic interpretation easier."
   ]
  },
  {
   "cell_type": "code",
   "execution_count": 51,
   "metadata": {},
   "outputs": [
    {
     "data": {
      "text/plain": [
       "[(0,\n",
       "  '0.100*\"urologie\" + 0.096*\"gastroenterologie\" + 0.075*\"krebszentrum\" + 0.066*\"viszeralchirurgie\" + 0.063*\"brustzentrum\" + 0.063*\"darmkrebszentrum\" + 0.061*\"allgemeine\" + 0.051*\"urologische\" + 0.050*\"schwerpunkt\" + 0.041*\"magen\"'),\n",
       " (1,\n",
       "  '0.128*\"thorax\" + 0.064*\"lungenkrebszentrum\" + 0.064*\"lungenkrebs\" + 0.053*\"darmkrebs\" + 0.044*\"sarkome\" + 0.039*\"chirurgisch\" + 0.037*\"schwerpunkt\" + 0.036*\"darmkrebszentrum\" + 0.034*\"endokrine\" + 0.032*\"krebszentrums\"'),\n",
       " (2,\n",
       "  '0.114*\"schwerpunkt\" + 0.092*\"gastroenterologie\" + 0.083*\"brustzentrum\" + 0.073*\"viszeralchirurgie\" + 0.067*\"allgemeine\" + 0.058*\"radiologisch\" + 0.053*\"darmkrebs\" + 0.043*\"leber\" + 0.041*\"mammographie\" + 0.040*\"magen\"')]"
      ]
     },
     "execution_count": 51,
     "metadata": {},
     "output_type": "execute_result"
    }
   ],
   "source": [
    "dictionary = Dictionary(tb_df.keywords)\n",
    "bow_corpus = [dictionary.doc2bow(doc) for doc in tb_df.keywords]\n",
    "\n",
    "lda = LdaMulticore(bow_corpus, \n",
    "                   num_topics = 3,  # 3 topics, as we're looking for interdisciplinary, breast and one other only\n",
    "                   id2word = dictionary,\n",
    "                   passes = 10, \n",
    "                   workers = 2,\n",
    "                   random_state=5)\n",
    "lda.show_topics()"
   ]
  },
  {
   "cell_type": "markdown",
   "metadata": {},
   "source": [
    "It's hard to draw conclusions from just the topics' keywords, so let's translate them to their corresponding tumor types."
   ]
  },
  {
   "cell_type": "code",
   "execution_count": 52,
   "metadata": {},
   "outputs": [
    {
     "name": "stdout",
     "output_type": "stream",
     "text": [
      "0\n",
      "[('Urologische', 0.0755),\n",
      " ('Magen', 0.0685),\n",
      " ('Interdisziplinär', 0.068),\n",
      " ('Darm', 0.0645),\n",
      " ('Brust', 0.063),\n",
      " ('Schwerpunkt', 0.05)]\n",
      "1\n",
      "[('Brust', 0.128),\n",
      " ('Lunge', 0.064),\n",
      " ('Darm', 0.0445),\n",
      " ('Sarkome', 0.044),\n",
      " ('Surgical', 0.039),\n",
      " ('Schwerpunkt', 0.037),\n",
      " ('Endokrine malignome', 0.034),\n",
      " ('Interdisziplinär', 0.032)]\n",
      "2\n",
      "[('Schwerpunkt', 0.114),\n",
      " ('Brust', 0.083),\n",
      " ('Magen', 0.066),\n",
      " ('Darm', 0.063),\n",
      " ('Interdisziplinär', 0.0625),\n",
      " ('Leber', 0.043),\n",
      " ('Mamma carcinoma', 0.041)]\n"
     ]
    }
   ],
   "source": [
    "def lda_topic_keywords2tumor_types(\n",
    "    keywords: list[str]\n",
    ") -> list[tuple[str, float]]:\n",
    "    \"\"\"\n",
    "    Converts passed LDA topic keywords string and converts them\n",
    "    to tumor types. Then returns a sorted list based on each \n",
    "    type's average probabilty.\n",
    "    \"\"\"\n",
    "    topic_kws = [kw.split(\"*\") for kw in keywords.split(\" + \")]\n",
    "    \n",
    "    tumor_type_probs = defaultdict(list)\n",
    "    for prob, kw in topic_kws:\n",
    "        tumor_type = kw2tt_dict[kw[1:-1]]\n",
    "        tumor_type_probs[tumor_type].append(float(prob))\n",
    "\n",
    "    return sorted(\n",
    "        [\n",
    "            (tt, np.mean(probs))\n",
    "            for tt, probs in tumor_type_probs.items()\n",
    "        ], \n",
    "        key=lambda x: -x[1]\n",
    "    )\n",
    "\n",
    "for id_, kws in lda.show_topics():\n",
    "    print(id_)\n",
    "    pprint(lda_topic_keywords2tumor_types(kws))"
   ]
  },
  {
   "cell_type": "markdown",
   "metadata": {},
   "source": [
    "This gives us some more insight inot what each topic is about. As we're supposed to identify interdisciplinar, breast and any third type of tumor board let's assume following groups:\n",
    "- 0 - for this classification we'll assume it's about urological tumor boards, however due to small diferences between probability distributions it could also be some kind of gastrological tumor board or interdisciplinary.\n",
    "- 1 - here we'll asume it's breast tumor board, as it is the top type of this group, with probability 2 times higher than the second one listed\n",
    "- 2 - for last group we'll assume interdisciplinary tumor board, as the tumor types in this group are pretty varied.\n",
    "\n",
    "Let's apply this classification to our data."
   ]
  },
  {
   "cell_type": "code",
   "execution_count": 48,
   "metadata": {},
   "outputs": [
    {
     "data": {
      "text/plain": [
       "2.0    52\n",
       "0.0    43\n",
       "1.0    12\n",
       "Name: board_type, dtype: int64"
      ]
     },
     "execution_count": 48,
     "metadata": {},
     "output_type": "execute_result"
    }
   ],
   "source": [
    "def doc2group(doc: str) -> int:\n",
    "    \"\"\"\n",
    "    Converts text document to group \n",
    "    with previously trained LDA model.\n",
    "    \"\"\"\n",
    "    global dictionary\n",
    "    global lda\n",
    "    \n",
    "    if not doc:\n",
    "        return None\n",
    "    \n",
    "    bow = dictionary.doc2bow(doc)\n",
    "    groups = lda[bow]\n",
    "    \n",
    "    top_group, _ = max(groups, key=lambda x: x[1])\n",
    "    \n",
    "    return int(top_group)\n",
    "\n",
    "tb_df['board_type'] = tb_df['keywords'].apply(doc2group)\n",
    "tb_df['board_type'].value_counts()"
   ]
  },
  {
   "cell_type": "markdown",
   "metadata": {},
   "source": [
    "As we can see the biggest group concerns interdisciplinary tumor boards, which seems probable, as interdisciplinary tumor boards probably concern a bigger group of tumors in general. However the second most numerous group is the one we assumed to be urological. The fact that it's count is only 9 smaller than the interdisciplinary group could mean for example that some interdisciplinary tumor boards got counted into this group. This would also explain the small variation between the tumor types in this group in the previous step.\n",
    "\n",
    "### Schedule identification\n",
    "\n",
    "The most reliable method for this task would be to use Named Entity Recognition system, trained to detect entities about time, dates, frequencies etc. Spacy has an inbuilt NER functionality which could be taken advantage of for this task, however unfortunately none of the german language models have predefined entities regarding the information we're trying to find. We could train given models with our own data, however this would require additional time for data gathering and tagging of the entities.\n",
    "\n",
    "Because of this I decided only to try a simple approach of finding weekdays or words about time frequency in our pages."
   ]
  },
  {
   "cell_type": "code",
   "execution_count": 54,
   "metadata": {},
   "outputs": [
    {
     "data": {
      "text/plain": [
       "0.25688073394495414"
      ]
     },
     "execution_count": 54,
     "metadata": {},
     "output_type": "execute_result"
    }
   ],
   "source": [
    "def find_most_frequent(words: str, text: str) -> str:\n",
    "    \"\"\"\n",
    "    Finds all the occurances of words from passed wordlist\n",
    "    in the passed text and returns the word with the most\n",
    "    frequent occurance.\n",
    "    \"\"\"\n",
    "    tokens = text.split()\n",
    "    found_words = set(tokens).intersection(words)\n",
    "    word_counts = Counter(tokens)\n",
    "    \n",
    "    found_words_counts = defaultdict(int)\n",
    "    for wd in found_words:\n",
    "        found_words_counts[wd] += word_counts[wd]\n",
    "    \n",
    "    if not found_words_counts:\n",
    "        return None\n",
    "    \n",
    "    most_freq_word, _ = max(\n",
    "        found_words_counts.items(), \n",
    "        key=lambda x: x[1]\n",
    "    )\n",
    "    \n",
    "    return most_freq_word\n",
    "\n",
    "weekdays = {\n",
    "    'sonntag', \n",
    "    'montag', \n",
    "    'dienstag', \n",
    "    'mittwoch', \n",
    "    'donnerstag', \n",
    "    'freitag', \n",
    "    'samstag'\n",
    "}\n",
    "find_weekday = partial(find_most_frequent, weekdays)\n",
    "\n",
    "tb_df['weekday'] = tb_df['clean_text'].apply(find_weekday)\n",
    "tb_df[~tb_df.weekday.isna()].shape[0] / tb_df.shape[0]"
   ]
  },
  {
   "cell_type": "code",
   "execution_count": 55,
   "metadata": {},
   "outputs": [
    {
     "data": {
      "text/plain": [
       "0.21100917431192662"
      ]
     },
     "execution_count": 55,
     "metadata": {},
     "output_type": "execute_result"
    }
   ],
   "source": [
    "frequency_words = {\n",
    "    'woche',\n",
    "    'monat'\n",
    "}\n",
    "find_frequency = partial(find_most_frequent, frequency_words)\n",
    "\n",
    "tb_df['period'] = tb_df['clean_text'].apply(find_frequency)\n",
    "tb_df[~tb_df.period.isna()].shape[0] / tb_df.shape[0]"
   ]
  },
  {
   "cell_type": "code",
   "execution_count": null,
   "metadata": {},
   "outputs": [],
   "source": []
  }
 ],
 "metadata": {
  "kernelspec": {
   "display_name": "Python 3",
   "language": "python",
   "name": "python3"
  },
  "language_info": {
   "codemirror_mode": {
    "name": "ipython",
    "version": 3
   },
   "file_extension": ".py",
   "mimetype": "text/x-python",
   "name": "python",
   "nbconvert_exporter": "python",
   "pygments_lexer": "ipython3",
   "version": "3.9.4"
  }
 },
 "nbformat": 4,
 "nbformat_minor": 2
}
